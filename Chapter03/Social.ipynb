{
 "cells": [
  {
   "cell_type": "code",
   "execution_count": 1,
   "id": "0946427c",
   "metadata": {},
   "outputs": [],
   "source": [
    "import requests\n",
    "import pandas as pd\n",
    "#! pip install tweepy\n",
    "import tweepy as tw"
   ]
  },
  {
   "cell_type": "markdown",
   "id": "912f704f",
   "metadata": {},
   "source": [
    "## Twitter"
   ]
  },
  {
   "cell_type": "code",
   "execution_count": 2,
   "id": "71ce8774",
   "metadata": {},
   "outputs": [],
   "source": [
    "APP_KEY='[YOUR TOKEN]'\n",
    "APP_SECRET='[YOUR TOKEN]'\n",
    "OAUTH_TOKEN='[YOUR TOKEN]'\n",
    "OAUTH_TOKEN_SECRET='[YOUR TOKEN]'"
   ]
  },
  {
   "cell_type": "code",
   "execution_count": 3,
   "id": "38142207",
   "metadata": {},
   "outputs": [],
   "source": [
    "auth=tw.OAuthHandler (APP_KEY,APP_SECRET)\n",
    "auth.set_access_token (OAUTH_TOKEN,OAUTH_TOKEN_SECRET)\n",
    "api=tw.API (auth,wait_on_rate_limit=True)"
   ]
  },
  {
   "cell_type": "code",
   "execution_count": 4,
   "id": "4b2e7001",
   "metadata": {},
   "outputs": [],
   "source": [
    "search_words='bitcoin'"
   ]
  },
  {
   "cell_type": "code",
   "execution_count": 5,
   "id": "a1b265d0",
   "metadata": {},
   "outputs": [],
   "source": [
    "places=api.geo_search (query='United States', granularity='country')\n",
    "place_id=places [0].id"
   ]
  },
  {
   "cell_type": "code",
   "execution_count": 6,
   "id": "018b90ca",
   "metadata": {},
   "outputs": [
    {
     "name": "stdout",
     "output_type": "stream",
     "text": [
      "bitcoin place:96683cc9126741d1 -filter:retweets\n"
     ]
    }
   ],
   "source": [
    "new_search='{} place:{} -filter:retweets'.format (search_words,place_id)\n",
    "print (new_search)"
   ]
  },
  {
   "cell_type": "code",
   "execution_count": 7,
   "id": "0820f151",
   "metadata": {},
   "outputs": [
    {
     "data": {
      "text/plain": [
       "(100, 2)"
      ]
     },
     "execution_count": 7,
     "metadata": {},
     "output_type": "execute_result"
    }
   ],
   "source": [
    "tweets=tw.Cursor (api.search, q=new_search, tweet_mode='extended'). items (100)\n",
    "tweets_list=[[tweet.full_text,tweet.user.location] for tweet in tweets]\n",
    "tweet_df=pd.DataFrame (data=tweets_list, columns=['tweet', 'location'])\n",
    "tweet_df.shape"
   ]
  },
  {
   "cell_type": "code",
   "execution_count": 8,
   "id": "3fbc5c7a",
   "metadata": {},
   "outputs": [
    {
     "data": {
      "text/html": [
       "<div>\n",
       "<style scoped>\n",
       "    .dataframe tbody tr th:only-of-type {\n",
       "        vertical-align: middle;\n",
       "    }\n",
       "\n",
       "    .dataframe tbody tr th {\n",
       "        vertical-align: top;\n",
       "    }\n",
       "\n",
       "    .dataframe thead th {\n",
       "        text-align: right;\n",
       "    }\n",
       "</style>\n",
       "<table border=\"1\" class=\"dataframe\">\n",
       "  <thead>\n",
       "    <tr style=\"text-align: right;\">\n",
       "      <th></th>\n",
       "      <th>tweet</th>\n",
       "      <th>location</th>\n",
       "    </tr>\n",
       "  </thead>\n",
       "  <tbody>\n",
       "    <tr>\n",
       "      <th>0</th>\n",
       "      <td>@IncomeSharks @seth_fin and what is mean for a...</td>\n",
       "      <td>United States</td>\n",
       "    </tr>\n",
       "    <tr>\n",
       "      <th>1</th>\n",
       "      <td>@gatorbitcoin420 Haha that dude is so soft and...</td>\n",
       "      <td>Palm Beach Gardens, FL</td>\n",
       "    </tr>\n",
       "    <tr>\n",
       "      <th>2</th>\n",
       "      <td>Justin215 found #bitcoin in a Blue vault at th...</td>\n",
       "      <td>Philadelphia, PA</td>\n",
       "    </tr>\n",
       "    <tr>\n",
       "      <th>3</th>\n",
       "      <td>@saylor @yeg0rpetrov My nft collection is full...</td>\n",
       "      <td>Woodward, PA</td>\n",
       "    </tr>\n",
       "    <tr>\n",
       "      <th>4</th>\n",
       "      <td>India’s Biggest Concert \\n\\nArijit Singh Live ...</td>\n",
       "      <td>California, USA</td>\n",
       "    </tr>\n",
       "  </tbody>\n",
       "</table>\n",
       "</div>"
      ],
      "text/plain": [
       "                                               tweet                location\n",
       "0  @IncomeSharks @seth_fin and what is mean for a...           United States\n",
       "1  @gatorbitcoin420 Haha that dude is so soft and...  Palm Beach Gardens, FL\n",
       "2  Justin215 found #bitcoin in a Blue vault at th...        Philadelphia, PA\n",
       "3  @saylor @yeg0rpetrov My nft collection is full...            Woodward, PA\n",
       "4  India’s Biggest Concert \\n\\nArijit Singh Live ...         California, USA"
      ]
     },
     "execution_count": 8,
     "metadata": {},
     "output_type": "execute_result"
    }
   ],
   "source": [
    "tweet_df.head()"
   ]
  },
  {
   "cell_type": "markdown",
   "id": "d2aafe9b",
   "metadata": {},
   "source": [
    "## LunarCrush"
   ]
  },
  {
   "cell_type": "code",
   "execution_count": 9,
   "id": "f09ee2a3",
   "metadata": {},
   "outputs": [
    {
     "data": {
      "text/plain": [
       "{'name': 'Phala Network', 'symbol': 'PHA'}"
      ]
     },
     "execution_count": 9,
     "metadata": {},
     "output_type": "execute_result"
    }
   ],
   "source": [
    "url = \"https://lunarcrush.com/api3/coinoftheday\"\n",
    "headers = {\n",
    "  'Authorization': 'Bearer [YOUR TOKEN]'\n",
    "}\n",
    "\n",
    "response = requests.get (url, headers=headers)\n",
    "data = response.json()\n",
    "data"
   ]
  }
 ],
 "metadata": {
  "kernelspec": {
   "display_name": "Python 3 (ipykernel)",
   "language": "python",
   "name": "python3"
  },
  "language_info": {
   "codemirror_mode": {
    "name": "ipython",
    "version": 3
   },
   "file_extension": ".py",
   "mimetype": "text/x-python",
   "name": "python",
   "nbconvert_exporter": "python",
   "pygments_lexer": "ipython3",
   "version": "3.8.13"
  }
 },
 "nbformat": 4,
 "nbformat_minor": 5
}
