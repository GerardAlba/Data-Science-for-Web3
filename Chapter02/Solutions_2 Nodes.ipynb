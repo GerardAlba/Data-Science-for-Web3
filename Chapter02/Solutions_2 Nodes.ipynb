{
 "cells": [
  {
   "cell_type": "markdown",
   "id": "3d930f11",
   "metadata": {},
   "source": [
    "Exercise 4"
   ]
  },
  {
   "cell_type": "code",
   "execution_count": 2,
   "id": "5bef7ed2",
   "metadata": {},
   "outputs": [],
   "source": [
    "from web3 import Web3\n",
    "from matplotlib import pyplot as plt\n",
    "import json\n",
    "import requests\n",
    "import pandas as pd"
   ]
  },
  {
   "cell_type": "code",
   "execution_count": 3,
   "id": "fa82ef67",
   "metadata": {},
   "outputs": [
    {
     "data": {
      "text/plain": [
       "False"
      ]
     },
     "execution_count": 3,
     "metadata": {},
     "output_type": "execute_result"
    }
   ],
   "source": [
    "getblock_url= 'https://rsk.getblock.io/[YOUR API KEY]/mainnet/'\n",
    "web3= Web3(Web3.HTTPProvider (getblock_url))\n",
    "web3.isConnected()"
   ]
  },
  {
   "cell_type": "code",
   "execution_count": null,
   "id": "ee299144",
   "metadata": {},
   "outputs": [],
   "source": [
    "end_block =  web3.eth.getBlock(block_identifier='latest').number\n",
    "start_block = end_block-100\n",
    "\n",
    "transaction_count= []\n",
    "for block in range(start_block, end_block):\n",
    "    counts= (web3.eth.getBlockTransactionCount(block))\n",
    "    transaction_count.append (counts)"
   ]
  },
  {
   "cell_type": "code",
   "execution_count": null,
   "id": "83759580",
   "metadata": {},
   "outputs": [],
   "source": [
    "plt.plot (transaction_count)\n",
    "plt.xlabel(\"100 latest blocks\")\n",
    "plt.ylabel(\"Number of transactions per block\")\n",
    "plt.show()"
   ]
  },
  {
   "cell_type": "markdown",
   "id": "d847d08b",
   "metadata": {},
   "source": [
    "Exercise 5"
   ]
  },
  {
   "cell_type": "code",
   "execution_count": null,
   "id": "7b00ce2c",
   "metadata": {},
   "outputs": [],
   "source": [
    "end_block =  web3.eth.getBlock(block_identifier='latest').number\n",
    "start_block = end_block-100\n",
    "\n",
    "recepients= []\n",
    "for block in range(start_block, end_block):\n",
    "    for tx_hash in (web3.eth.getBlock(block_identifier=block).transactions):\n",
    "        to_address = web3.eth.get_transaction(tx_hash).to\n",
    "        recepients.append (to_address)"
   ]
  },
  {
   "cell_type": "code",
   "execution_count": null,
   "id": "da783c47",
   "metadata": {},
   "outputs": [],
   "source": [
    "latestblocks_recepients = {i:recepients.count(i) for i in recepients}\n",
    "latestblocks_recepients"
   ]
  },
  {
   "cell_type": "markdown",
   "id": "9bdf330c",
   "metadata": {},
   "source": [
    "Exercise 6"
   ]
  },
  {
   "cell_type": "code",
   "execution_count": null,
   "id": "3d629a91",
   "metadata": {},
   "outputs": [],
   "source": [
    "infura_url= 'https://mainnet.infura.io/v3/[YOUR API KEY]'\n",
    "web3= Web3(Web3.HTTPProvider (infura_url))\n",
    "web3.isConnected()"
   ]
  },
  {
   "cell_type": "code",
   "execution_count": null,
   "id": "595328b3",
   "metadata": {},
   "outputs": [],
   "source": [
    "sc_address=\"0xBC4CA0EdA7647A8aB7C2061c2E118A18a936f13D\"\n",
    "with open (\"./ba_abi.json\") as f:\n",
    "    abi= json.load (f)\n",
    "baContract = web3.eth.contract(address=sc_address, abi=abi)"
   ]
  },
  {
   "cell_type": "code",
   "execution_count": null,
   "id": "22011562",
   "metadata": {},
   "outputs": [],
   "source": [
    "url=\"https://api.coingecko.com/api/v3/simple/price?ids=ethereum&vs_currencies=usd\"\n",
    "response= requests.get (url)\n",
    "data= response.json()\n",
    "ether_price= data ['ethereum']['usd']"
   ]
  },
  {
   "cell_type": "code",
   "execution_count": null,
   "id": "e8b27a70",
   "metadata": {},
   "outputs": [],
   "source": [
    "owners=[]\n",
    "balances = []\n",
    "ape_ids=[]\n",
    "for ape_id in range (0,10000):\n",
    "    ape_ids.append (ape_id)\n",
    "    owner= baContract.functions.ownerOf(ape_id).call()\n",
    "    owners.append (owner)\n",
    "    balance = (web3.fromWei(web3.eth.getBalance(owner), \"ether\"))\n",
    "    balances. append ((float (balance))* ether_price)"
   ]
  },
  {
   "cell_type": "code",
   "execution_count": null,
   "id": "54cf9001",
   "metadata": {},
   "outputs": [],
   "source": [
    "dict_todf= {'Ape_ids':ape_ids,'Bayc_Owners':owners, 'Address_balance':balances}\n",
    "df= pd.DataFrame (dict_todf, columns= [\"Id\",\"Bayc_Owners\", \"Address_balance\"])\n",
    "df.head()"
   ]
  },
  {
   "cell_type": "code",
   "execution_count": null,
   "id": "7e83470b",
   "metadata": {},
   "outputs": [],
   "source": [
    "df.shape"
   ]
  },
  {
   "cell_type": "code",
   "execution_count": null,
   "id": "235d2715",
   "metadata": {},
   "outputs": [],
   "source": [
    "df.drop_duplicates(subset=['Bayc_Owners'], inplace= True)\n",
    "df.shape"
   ]
  },
  {
   "cell_type": "code",
   "execution_count": null,
   "id": "d82007f9",
   "metadata": {},
   "outputs": [],
   "source": [
    "print (\"The average in USD (at current price) of a BAYC holder is $\",df.Address_balance.mean())"
   ]
  },
  {
   "cell_type": "code",
   "execution_count": null,
   "id": "dd9496e0",
   "metadata": {},
   "outputs": [],
   "source": []
  }
 ],
 "metadata": {
  "kernelspec": {
   "display_name": "Python 3 (ipykernel)",
   "language": "python",
   "name": "python3"
  },
  "language_info": {
   "codemirror_mode": {
    "name": "ipython",
    "version": 3
   },
   "file_extension": ".py",
   "mimetype": "text/x-python",
   "name": "python",
   "nbconvert_exporter": "python",
   "pygments_lexer": "ipython3",
   "version": "3.8.13"
  }
 },
 "nbformat": 4,
 "nbformat_minor": 5
}
