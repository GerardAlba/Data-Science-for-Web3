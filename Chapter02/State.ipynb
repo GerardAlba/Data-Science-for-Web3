{
 "cells": [
  {
   "cell_type": "code",
   "execution_count": 1,
   "id": "b09cab40",
   "metadata": {},
   "outputs": [],
   "source": [
    "from web3 import Web3\n",
    "from ens import ENS\n",
    "from datetime import datetime\n",
    "import pandas as pd\n",
    "import json"
   ]
  },
  {
   "cell_type": "code",
   "execution_count": 2,
   "id": "4fd27a80",
   "metadata": {},
   "outputs": [
    {
     "data": {
      "text/plain": [
       "True"
      ]
     },
     "execution_count": 2,
     "metadata": {},
     "output_type": "execute_result"
    }
   ],
   "source": [
    "infura_url= 'https://mainnet.infura.io/v3/[YOUR API KEY]'\n",
    "web3= Web3(Web3.HTTPProvider (infura_url))\n",
    "ns = ENS.fromWeb3(web3)\n",
    "web3.isConnected()"
   ]
  },
  {
   "cell_type": "code",
   "execution_count": 3,
   "id": "f7990db6",
   "metadata": {},
   "outputs": [],
   "source": [
    "sc_address=\"0xBC4CA0EdA7647A8aB7C2061c2E118A18a936f13D\"\n",
    "with open (\"./ba_abi.json\") as f:\n",
    "    abi= json.load (f)"
   ]
  },
  {
   "cell_type": "code",
   "execution_count": 4,
   "id": "34f71b2f",
   "metadata": {},
   "outputs": [],
   "source": [
    "baContract = web3.eth.contract(address=sc_address, abi=abi)"
   ]
  },
  {
   "cell_type": "code",
   "execution_count": 5,
   "id": "e6d8b694",
   "metadata": {},
   "outputs": [
    {
     "data": {
      "text/plain": [
       "[<Function BAYC_PROVENANCE()>,\n",
       " <Function MAX_APES()>,\n",
       " <Function REVEAL_TIMESTAMP()>,\n",
       " <Function apePrice()>,\n",
       " <Function approve(address,uint256)>,\n",
       " <Function balanceOf(address)>,\n",
       " <Function baseURI()>,\n",
       " <Function emergencySetStartingIndexBlock()>,\n",
       " <Function flipSaleState()>,\n",
       " <Function getApproved(uint256)>,\n",
       " <Function isApprovedForAll(address,address)>,\n",
       " <Function maxApePurchase()>,\n",
       " <Function mintApe(uint256)>,\n",
       " <Function name()>,\n",
       " <Function owner()>,\n",
       " <Function ownerOf(uint256)>,\n",
       " <Function renounceOwnership()>,\n",
       " <Function reserveApes()>,\n",
       " <Function safeTransferFrom(address,address,uint256)>,\n",
       " <Function safeTransferFrom(address,address,uint256,bytes)>,\n",
       " <Function saleIsActive()>,\n",
       " <Function setApprovalForAll(address,bool)>,\n",
       " <Function setBaseURI(string)>,\n",
       " <Function setProvenanceHash(string)>,\n",
       " <Function setRevealTimestamp(uint256)>,\n",
       " <Function setStartingIndex()>,\n",
       " <Function startingIndex()>,\n",
       " <Function startingIndexBlock()>,\n",
       " <Function supportsInterface(bytes4)>,\n",
       " <Function symbol()>,\n",
       " <Function tokenByIndex(uint256)>,\n",
       " <Function tokenOfOwnerByIndex(address,uint256)>,\n",
       " <Function tokenURI(uint256)>,\n",
       " <Function totalSupply()>,\n",
       " <Function transferFrom(address,address,uint256)>,\n",
       " <Function transferOwnership(address)>,\n",
       " <Function withdraw()>]"
      ]
     },
     "execution_count": 5,
     "metadata": {},
     "output_type": "execute_result"
    }
   ],
   "source": [
    "baContract.all_functions()"
   ]
  },
  {
   "cell_type": "code",
   "execution_count": 6,
   "id": "e8e1cc9d",
   "metadata": {},
   "outputs": [
    {
     "name": "stdout",
     "output_type": "stream",
     "text": [
      "Max apes are:  10000\n"
     ]
    }
   ],
   "source": [
    "print (\"Max apes are: \", baContract.functions.MAX_APES().call())"
   ]
  },
  {
   "cell_type": "code",
   "execution_count": 7,
   "id": "a34583ea",
   "metadata": {},
   "outputs": [
    {
     "name": "stdout",
     "output_type": "stream",
     "text": [
      "The owner of APE 6633:  0xC4505dB8CC490767fA6f4b6f0F2bDd668B357A5D\n"
     ]
    }
   ],
   "source": [
    "print (\"The owner of APE 6633: \", baContract.functions.ownerOf(6633).call())"
   ]
  },
  {
   "cell_type": "code",
   "execution_count": 8,
   "id": "a729729c",
   "metadata": {},
   "outputs": [
    {
     "name": "stdout",
     "output_type": "stream",
     "text": [
      "The owner of APE 6633:  0xDE2b87d1539904f4b37E98C0d5CE383E890006eF\n"
     ]
    }
   ],
   "source": [
    "print (\"The owner of APE 6633: \", baContract.functions.ownerOf(6633).call(block_identifier=14044021))"
   ]
  },
  {
   "cell_type": "code",
   "execution_count": 9,
   "id": "6ec3cd75",
   "metadata": {},
   "outputs": [
    {
     "name": "stdout",
     "output_type": "stream",
     "text": [
      "The previous owner of the Ape 6633 was: tommykethvault.eth\n"
     ]
    }
   ],
   "source": [
    "domain = ns.name('0xDE2b87d1539904f4b37E98C0d5CE383E890006eF')\n",
    "print (\"The previous owner of the Ape 6633 was:\", domain)"
   ]
  }
 ],
 "metadata": {
  "kernelspec": {
   "display_name": "Python 3 (ipykernel)",
   "language": "python",
   "name": "python3"
  },
  "language_info": {
   "codemirror_mode": {
    "name": "ipython",
    "version": 3
   },
   "file_extension": ".py",
   "mimetype": "text/x-python",
   "name": "python",
   "nbconvert_exporter": "python",
   "pygments_lexer": "ipython3",
   "version": "3.8.13"
  }
 },
 "nbformat": 4,
 "nbformat_minor": 5
}
