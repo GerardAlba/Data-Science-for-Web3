{
 "cells": [
  {
   "cell_type": "markdown",
   "metadata": {},
   "source": [
    "**Exercise 1**"
   ]
  },
  {
   "cell_type": "code",
   "execution_count": 1,
   "metadata": {
    "execution": {
     "iopub.execute_input": "2022-11-12T22:30:27.892787Z",
     "iopub.status.busy": "2022-11-12T22:30:27.891883Z",
     "iopub.status.idle": "2022-11-12T22:30:27.901944Z",
     "shell.execute_reply": "2022-11-12T22:30:27.901062Z",
     "shell.execute_reply.started": "2022-11-12T22:30:27.892701Z"
    }
   },
   "outputs": [],
   "source": [
    "from google.cloud import bigquery\n",
    "import pandas as pd"
   ]
  },
  {
   "cell_type": "code",
   "execution_count": 2,
   "metadata": {
    "execution": {
     "iopub.execute_input": "2022-11-12T22:30:27.906723Z",
     "iopub.status.busy": "2022-11-12T22:30:27.906387Z",
     "iopub.status.idle": "2022-11-12T22:30:27.916241Z",
     "shell.execute_reply": "2022-11-12T22:30:27.915172Z",
     "shell.execute_reply.started": "2022-11-12T22:30:27.906694Z"
    }
   },
   "outputs": [
    {
     "name": "stdout",
     "output_type": "stream",
     "text": [
      "Using Kaggle's public dataset BigQuery integration.\n"
     ]
    }
   ],
   "source": [
    "client = bigquery.Client()\n",
    "\n",
    "query = '''\n",
    "select miner, count (timestamp) as times, status\n",
    "from \n",
    "  (select miner, timestamp, \"pre_merger\" as status \n",
    "  from `bigquery-public-data.crypto_ethereum.blocks`\n",
    "  where timestamp between '2022-09-14 06:42:42' and '2022-09-15 06:42:42'\n",
    "  UNION ALL \n",
    "  select miner, timestamp, \"post_merger\" as status\n",
    "  from `bigquery-public-data.crypto_ethereum.blocks`\n",
    "  where timestamp between '2022-11-11 17:29:23' and '2022-11-12 17:29:23')\n",
    "group by status, miner\n",
    "'''"
   ]
  },
  {
   "cell_type": "code",
   "execution_count": 3,
   "metadata": {
    "execution": {
     "iopub.execute_input": "2022-11-12T22:30:27.917993Z",
     "iopub.status.busy": "2022-11-12T22:30:27.917612Z",
     "iopub.status.idle": "2022-11-12T22:30:29.655377Z",
     "shell.execute_reply": "2022-11-12T22:30:29.654327Z",
     "shell.execute_reply.started": "2022-11-12T22:30:27.917963Z"
    }
   },
   "outputs": [
    {
     "data": {
      "text/html": [
       "<div>\n",
       "<style scoped>\n",
       "    .dataframe tbody tr th:only-of-type {\n",
       "        vertical-align: middle;\n",
       "    }\n",
       "\n",
       "    .dataframe tbody tr th {\n",
       "        vertical-align: top;\n",
       "    }\n",
       "\n",
       "    .dataframe thead th {\n",
       "        text-align: right;\n",
       "    }\n",
       "</style>\n",
       "<table border=\"1\" class=\"dataframe\">\n",
       "  <thead>\n",
       "    <tr style=\"text-align: right;\">\n",
       "      <th></th>\n",
       "      <th>miner</th>\n",
       "      <th>times</th>\n",
       "      <th>status</th>\n",
       "    </tr>\n",
       "  </thead>\n",
       "  <tbody>\n",
       "    <tr>\n",
       "      <th>0</th>\n",
       "      <td>0x0000000000000000000000000000000000000001</td>\n",
       "      <td>10</td>\n",
       "      <td>post_merger</td>\n",
       "    </tr>\n",
       "    <tr>\n",
       "      <th>1</th>\n",
       "      <td>0x001ee00bee25f81444e2d172773f37fe05ea2488</td>\n",
       "      <td>4</td>\n",
       "      <td>post_merger</td>\n",
       "    </tr>\n",
       "    <tr>\n",
       "      <th>2</th>\n",
       "      <td>0x0038598ecb3b308ebc6c6e2c635bacaa3c5298a3</td>\n",
       "      <td>6</td>\n",
       "      <td>post_merger</td>\n",
       "    </tr>\n",
       "    <tr>\n",
       "      <th>3</th>\n",
       "      <td>0x0077732907bfc6208933cfd2a51afb8f33ca5958</td>\n",
       "      <td>3</td>\n",
       "      <td>post_merger</td>\n",
       "    </tr>\n",
       "    <tr>\n",
       "      <th>4</th>\n",
       "      <td>0x04241b41ecbd0bfdf1295e9d4fa59ea09e6c6186</td>\n",
       "      <td>1</td>\n",
       "      <td>post_merger</td>\n",
       "    </tr>\n",
       "  </tbody>\n",
       "</table>\n",
       "</div>"
      ],
      "text/plain": [
       "                                        miner  times       status\n",
       "0  0x0000000000000000000000000000000000000001     10  post_merger\n",
       "1  0x001ee00bee25f81444e2d172773f37fe05ea2488      4  post_merger\n",
       "2  0x0038598ecb3b308ebc6c6e2c635bacaa3c5298a3      6  post_merger\n",
       "3  0x0077732907bfc6208933cfd2a51afb8f33ca5958      3  post_merger\n",
       "4  0x04241b41ecbd0bfdf1295e9d4fa59ea09e6c6186      1  post_merger"
      ]
     },
     "execution_count": 3,
     "metadata": {},
     "output_type": "execute_result"
    }
   ],
   "source": [
    "query_job = client.query(query)\n",
    "\n",
    "iterator = query_job.result(timeout=30)\n",
    "rows = list(iterator)\n",
    "\n",
    "df = pd.DataFrame(data=[list(x.values()) for x in rows], columns=list(rows[0].keys()))\n",
    "\n",
    "df.head(5)"
   ]
  },
  {
   "cell_type": "code",
   "execution_count": 4,
   "metadata": {
    "execution": {
     "iopub.execute_input": "2022-11-12T22:30:29.658238Z",
     "iopub.status.busy": "2022-11-12T22:30:29.657913Z",
     "iopub.status.idle": "2022-11-12T22:30:29.669585Z",
     "shell.execute_reply": "2022-11-12T22:30:29.668502Z",
     "shell.execute_reply.started": "2022-11-12T22:30:29.658208Z"
    }
   },
   "outputs": [
    {
     "name": "stderr",
     "output_type": "stream",
     "text": [
      "/opt/conda/lib/python3.7/site-packages/pandas/util/_decorators.py:311: SettingWithCopyWarning: \n",
      "A value is trying to be set on a copy of a slice from a DataFrame\n",
      "\n",
      "See the caveats in the documentation: https://pandas.pydata.org/pandas-docs/stable/user_guide/indexing.html#returning-a-view-versus-a-copy\n",
      "  return func(*args, **kwargs)\n"
     ]
    }
   ],
   "source": [
    "df_premerge = df [(df[\"status\"]=='pre_merger')]\n",
    "df_posmerge = df [(df[\"status\"]=='post_merger')]\n",
    "\n",
    "df_premerge.sort_values (by='times', ascending=False, inplace= True)\n",
    "df_premerge.reset_index(drop=True, inplace=True)\n",
    "\n",
    "df_posmerge.sort_values (by='times', ascending=False, inplace= True)\n",
    "df_posmerge.reset_index(drop=True, inplace=True)"
   ]
  },
  {
   "cell_type": "code",
   "execution_count": 5,
   "metadata": {
    "execution": {
     "iopub.execute_input": "2022-11-12T22:30:29.671823Z",
     "iopub.status.busy": "2022-11-12T22:30:29.671074Z",
     "iopub.status.idle": "2022-11-12T22:30:29.679824Z",
     "shell.execute_reply": "2022-11-12T22:30:29.678771Z",
     "shell.execute_reply.started": "2022-11-12T22:30:29.671781Z"
    }
   },
   "outputs": [
    {
     "name": "stderr",
     "output_type": "stream",
     "text": [
      "/opt/conda/lib/python3.7/site-packages/ipykernel_launcher.py:1: SettingWithCopyWarning: \n",
      "A value is trying to be set on a copy of a slice from a DataFrame.\n",
      "Try using .loc[row_indexer,col_indexer] = value instead\n",
      "\n",
      "See the caveats in the documentation: https://pandas.pydata.org/pandas-docs/stable/user_guide/indexing.html#returning-a-view-versus-a-copy\n",
      "  \"\"\"Entry point for launching an IPython kernel.\n"
     ]
    }
   ],
   "source": [
    "df_premerge[\"times_%\"]= (df_premerge['times']/ df_premerge.times.sum())*100"
   ]
  },
  {
   "cell_type": "code",
   "execution_count": 6,
   "metadata": {
    "execution": {
     "iopub.execute_input": "2022-11-12T22:30:29.681302Z",
     "iopub.status.busy": "2022-11-12T22:30:29.681022Z",
     "iopub.status.idle": "2022-11-12T22:30:29.694943Z",
     "shell.execute_reply": "2022-11-12T22:30:29.693970Z",
     "shell.execute_reply.started": "2022-11-12T22:30:29.681276Z"
    }
   },
   "outputs": [],
   "source": [
    "pre_mean=df_premerge[\"times_%\"].mean()\n",
    "pre_median=df_premerge[\"times_%\"].median()"
   ]
  },
  {
   "cell_type": "code",
   "execution_count": 7,
   "metadata": {
    "execution": {
     "iopub.execute_input": "2022-11-12T22:30:29.697293Z",
     "iopub.status.busy": "2022-11-12T22:30:29.696818Z",
     "iopub.status.idle": "2022-11-12T22:30:29.706613Z",
     "shell.execute_reply": "2022-11-12T22:30:29.705431Z",
     "shell.execute_reply.started": "2022-11-12T22:30:29.697250Z"
    }
   },
   "outputs": [
    {
     "name": "stderr",
     "output_type": "stream",
     "text": [
      "/opt/conda/lib/python3.7/site-packages/ipykernel_launcher.py:1: SettingWithCopyWarning: \n",
      "A value is trying to be set on a copy of a slice from a DataFrame.\n",
      "Try using .loc[row_indexer,col_indexer] = value instead\n",
      "\n",
      "See the caveats in the documentation: https://pandas.pydata.org/pandas-docs/stable/user_guide/indexing.html#returning-a-view-versus-a-copy\n",
      "  \"\"\"Entry point for launching an IPython kernel.\n"
     ]
    }
   ],
   "source": [
    "df_posmerge[\"times_%\"]= (df_posmerge['times']/ df_posmerge.times.sum())*100\n",
    "pos_mean= df_posmerge[\"times_%\"].mean()\n",
    "pos_median= df_posmerge[\"times_%\"].median()"
   ]
  },
  {
   "cell_type": "code",
   "execution_count": 8,
   "metadata": {
    "execution": {
     "iopub.execute_input": "2022-11-12T22:30:29.709524Z",
     "iopub.status.busy": "2022-11-12T22:30:29.708320Z",
     "iopub.status.idle": "2022-11-12T22:30:29.940430Z",
     "shell.execute_reply": "2022-11-12T22:30:29.939370Z",
     "shell.execute_reply.started": "2022-11-12T22:30:29.709490Z"
    }
   },
   "outputs": [
    {
     "data": {
      "image/png": "[encoded data removed]",
      "text/plain": [
       "<Figure size 864x288 with 1 Axes>"
      ]
     },
     "metadata": {
      "needs_background": "light"
     },
     "output_type": "display_data"
    }
   ],
   "source": [
    "import matplotlib.pyplot as plt\n",
    "fig, ax = plt.subplots(figsize=(12, 4))\n",
    "plt.plot([pre_mean,pre_median],'g*', [pos_mean,pos_median], 'ro')\n",
    "\n",
    "style = dict(size=10, color='gray')\n",
    "ax.text(0.03, 1.9, \"Mean pre Merge\", **style)\n",
    "ax.text(0.88, 0.5, \"Median pre Merge\", **style)\n",
    "ax.text(0.03, 0.25, \"Mean pos Merge\", **style)\n",
    "ax.text(0.88, 0.15, \"Median pos Merge\", **style)\n",
    "plt.show()"
   ]
  },
  {
   "cell_type": "markdown",
   "metadata": {},
   "source": [
    "**Exercise 2**"
   ]
  },
  {
   "cell_type": "code",
   "execution_count": 9,
   "metadata": {
    "execution": {
     "iopub.execute_input": "2022-11-12T22:30:29.942765Z",
     "iopub.status.busy": "2022-11-12T22:30:29.942044Z",
     "iopub.status.idle": "2022-11-12T22:30:37.686721Z",
     "shell.execute_reply": "2022-11-12T22:30:37.685868Z",
     "shell.execute_reply.started": "2022-11-12T22:30:29.942721Z"
    }
   },
   "outputs": [],
   "source": [
    "query = '''\n",
    "select year, difficulty\n",
    "from \n",
    "(select  EXTRACT(YEAR FROM timestamp) AS year, avg (difficulty) as difficulty\n",
    "from `bigquery-public-data.crypto_ethereum.blocks`\n",
    "group by year)\n",
    "where year > 1970\n",
    "order by year\n",
    "'''\n",
    "query_job = client.query(query)\n",
    "iterator = query_job.result(timeout=30)\n",
    "rows = list(iterator)\n",
    "df = pd.DataFrame(data=[list(x.values()) for x in rows], columns=list(rows[0].keys()))\n",
    "\n",
    "df.head(10)\n",
    "df['difficulty']=df['difficulty'].astype(int)"
   ]
  },
  {
   "cell_type": "code",
   "execution_count": 10,
   "metadata": {
    "execution": {
     "iopub.execute_input": "2022-11-12T22:30:37.688440Z",
     "iopub.status.busy": "2022-11-12T22:30:37.688148Z",
     "iopub.status.idle": "2022-11-12T22:30:37.920826Z",
     "shell.execute_reply": "2022-11-12T22:30:37.919487Z",
     "shell.execute_reply.started": "2022-11-12T22:30:37.688413Z"
    }
   },
   "outputs": [
    {
     "data": {
      "text/plain": [
       "<AxesSubplot:xlabel='year'>"
      ]
     },
     "execution_count": 10,
     "metadata": {},
     "output_type": "execute_result"
    },
    {
     "data": {
      "image/png": "[encoded data removed]",
      "text/plain": [
       "<Figure size 432x288 with 1 Axes>"
      ]
     },
     "metadata": {
      "needs_background": "light"
     },
     "output_type": "display_data"
    }
   ],
   "source": [
    "df.plot('year' , 'difficulty')"
   ]
  },
  {
   "cell_type": "markdown",
   "metadata": {},
   "source": [
    "Exercise 3"
   ]
  },
  {
   "cell_type": "code",
   "execution_count": 11,
   "metadata": {
    "execution": {
     "iopub.execute_input": "2022-11-12T22:30:37.922607Z",
     "iopub.status.busy": "2022-11-12T22:30:37.922269Z",
     "iopub.status.idle": "2022-11-12T22:30:48.282923Z",
     "shell.execute_reply": "2022-11-12T22:30:48.281963Z",
     "shell.execute_reply.started": "2022-11-12T22:30:37.922575Z"
    }
   },
   "outputs": [
    {
     "data": {
      "text/html": [
       "<div>\n",
       "<style scoped>\n",
       "    .dataframe tbody tr th:only-of-type {\n",
       "        vertical-align: middle;\n",
       "    }\n",
       "\n",
       "    .dataframe tbody tr th {\n",
       "        vertical-align: top;\n",
       "    }\n",
       "\n",
       "    .dataframe thead th {\n",
       "        text-align: right;\n",
       "    }\n",
       "</style>\n",
       "<table border=\"1\" class=\"dataframe\">\n",
       "  <thead>\n",
       "    <tr style=\"text-align: right;\">\n",
       "      <th></th>\n",
       "      <th>Year</th>\n",
       "      <th>transactions</th>\n",
       "      <th>gas_price</th>\n",
       "    </tr>\n",
       "  </thead>\n",
       "  <tbody>\n",
       "    <tr>\n",
       "      <th>0</th>\n",
       "      <td>2017</td>\n",
       "      <td>585</td>\n",
       "      <td>0</td>\n",
       "    </tr>\n",
       "    <tr>\n",
       "      <th>1</th>\n",
       "      <td>2018</td>\n",
       "      <td>109855</td>\n",
       "      <td>0</td>\n",
       "    </tr>\n",
       "    <tr>\n",
       "      <th>2</th>\n",
       "      <td>2019</td>\n",
       "      <td>167352</td>\n",
       "      <td>0</td>\n",
       "    </tr>\n",
       "    <tr>\n",
       "      <th>3</th>\n",
       "      <td>2020</td>\n",
       "      <td>106914</td>\n",
       "      <td>0</td>\n",
       "    </tr>\n",
       "    <tr>\n",
       "      <th>4</th>\n",
       "      <td>2021</td>\n",
       "      <td>1561017</td>\n",
       "      <td>0</td>\n",
       "    </tr>\n",
       "  </tbody>\n",
       "</table>\n",
       "</div>"
      ],
      "text/plain": [
       "   Year  transactions  gas_price\n",
       "0  2017           585          0\n",
       "1  2018        109855          0\n",
       "2  2019        167352          0\n",
       "3  2020        106914          0\n",
       "4  2021       1561017          0"
      ]
     },
     "execution_count": 11,
     "metadata": {},
     "output_type": "execute_result"
    }
   ],
   "source": [
    "query = '''select Year, count (hashes) as transactions, gas_price\n",
    "from \n",
    "(select  EXTRACT(YEAR FROM block_timestamp) AS Year, \"hash\" as hashes, gas_price, receipt_status\n",
    "from `bigquery-public-data.crypto_ethereum.transactions` \n",
    "where gas_price = 0 \n",
    "and receipt_status = 1)\n",
    "group by Year, gas_price\n",
    "order by Year'''\n",
    "\n",
    "query_job = client.query(query)\n",
    "iterator = query_job.result(timeout=30)\n",
    "rows = list(iterator)\n",
    "df = pd.DataFrame(data=[list(x.values()) for x in rows], columns=list(rows[0].keys()))\n",
    "\n",
    "df.head(10)"
   ]
  },
  {
   "cell_type": "code",
   "execution_count": 12,
   "metadata": {
    "execution": {
     "iopub.execute_input": "2022-11-12T22:30:48.284776Z",
     "iopub.status.busy": "2022-11-12T22:30:48.284444Z",
     "iopub.status.idle": "2022-11-12T22:30:48.538785Z",
     "shell.execute_reply": "2022-11-12T22:30:48.537660Z",
     "shell.execute_reply.started": "2022-11-12T22:30:48.284747Z"
    }
   },
   "outputs": [
    {
     "data": {
      "text/plain": [
       "<AxesSubplot:xlabel='Year'>"
      ]
     },
     "execution_count": 12,
     "metadata": {},
     "output_type": "execute_result"
    },
    {
     "data": {
      "image/png": "[encoded data removed]",
      "text/plain": [
       "<Figure size 432x288 with 1 Axes>"
      ]
     },
     "metadata": {
      "needs_background": "light"
     },
     "output_type": "display_data"
    }
   ],
   "source": [
    "df.plot('Year' , 'transactions')"
   ]
  },
  {
   "cell_type": "code",
   "execution_count": null,
   "metadata": {},
   "outputs": [],
   "source": []
  }
 ],
 "metadata": {
  "kernelspec": {
   "display_name": "Python 3 (ipykernel)",
   "language": "python",
   "name": "python3"
  },
  "language_info": {
   "codemirror_mode": {
    "name": "ipython",
    "version": 3
   },
   "file_extension": ".py",
   "mimetype": "text/x-python",
   "name": "python",
   "nbconvert_exporter": "python",
   "pygments_lexer": "ipython3",
   "version": "3.8.13"
  }
 },
 "nbformat": 4,
 "nbformat_minor": 4
}
