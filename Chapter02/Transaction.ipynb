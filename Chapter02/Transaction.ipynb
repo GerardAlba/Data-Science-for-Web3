{
 "cells": [
  {
   "cell_type": "markdown",
   "id": "6c86317f",
   "metadata": {},
   "source": [
    "## Connection"
   ]
  },
  {
   "cell_type": "code",
   "execution_count": 1,
   "id": "0b74c82f",
   "metadata": {},
   "outputs": [],
   "source": [
    "from web3 import Web3\n",
    "from datetime import datetime\n",
    "import pandas as pd\n",
    "import json"
   ]
  },
  {
   "cell_type": "code",
   "execution_count": 2,
   "id": "68c1e0e7",
   "metadata": {},
   "outputs": [
    {
     "data": {
      "text/plain": [
       "True"
      ]
     },
     "execution_count": 2,
     "metadata": {},
     "output_type": "execute_result"
    }
   ],
   "source": [
    "infura_url= 'https://mainnet.infura.io/v3/[YOUR API KEY]'\n",
    "web3= Web3(Web3.HTTPProvider (infura_url))\n",
    "web3.isConnected()"
   ]
  },
  {
   "cell_type": "markdown",
   "id": "d086231d",
   "metadata": {},
   "source": [
    "## Dissecting Transaction"
   ]
  },
  {
   "cell_type": "code",
   "execution_count": 3,
   "id": "3f91d9de",
   "metadata": {},
   "outputs": [],
   "source": [
    "address= web3.toChecksumAddress(\"0x1ad91ee08f21be3de0ba2ba6918e714da6b45836\")\n",
    "transaction= '0x032ed60363beb809a2b9c9790bb7dadd83b743040945a087aeecbe9e6b2dc2af'"
   ]
  },
  {
   "cell_type": "markdown",
   "id": "d7f18ec0",
   "metadata": {},
   "source": [
    "* Nonce"
   ]
  },
  {
   "cell_type": "code",
   "execution_count": 4,
   "id": "76278fc3",
   "metadata": {},
   "outputs": [
    {
     "data": {
      "text/plain": [
       "3460174"
      ]
     },
     "execution_count": 4,
     "metadata": {},
     "output_type": "execute_result"
    }
   ],
   "source": [
    "next_nonce= web3.eth.getTransactionCount(address)\n",
    "next_nonce"
   ]
  },
  {
   "cell_type": "code",
   "execution_count": 5,
   "id": "2f4addd2",
   "metadata": {},
   "outputs": [
    {
     "data": {
      "text/plain": [
       "3460171"
      ]
     },
     "execution_count": 5,
     "metadata": {},
     "output_type": "execute_result"
    }
   ],
   "source": [
    "transaction_nonce= web3.eth.get_transaction(transaction).nonce\n",
    "transaction_nonce"
   ]
  },
  {
   "cell_type": "markdown",
   "id": "f1a0a218",
   "metadata": {},
   "source": [
    "* Gas"
   ]
  },
  {
   "cell_type": "code",
   "execution_count": 6,
   "id": "13154b07",
   "metadata": {},
   "outputs": [
    {
     "data": {
      "text/plain": [
       "19209576968"
      ]
     },
     "execution_count": 6,
     "metadata": {},
     "output_type": "execute_result"
    }
   ],
   "source": [
    "gasPrice= web3.eth.get_transaction(transaction).gasPrice\n",
    "gasPrice"
   ]
  },
  {
   "cell_type": "code",
   "execution_count": 7,
   "id": "32f3d3ed",
   "metadata": {},
   "outputs": [
    {
     "data": {
      "text/plain": [
       "100000"
      ]
     },
     "execution_count": 7,
     "metadata": {},
     "output_type": "execute_result"
    }
   ],
   "source": [
    "gaslimit= web3.eth.get_transaction(transaction).gas\n",
    "gaslimit"
   ]
  },
  {
   "cell_type": "code",
   "execution_count": 8,
   "id": "217944ad",
   "metadata": {},
   "outputs": [
    {
     "data": {
      "text/plain": [
       "21000"
      ]
     },
     "execution_count": 8,
     "metadata": {},
     "output_type": "execute_result"
    }
   ],
   "source": [
    "gasUsed= web3.eth.getTransactionReceipt (transaction).gasUsed\n",
    "gasUsed"
   ]
  },
  {
   "cell_type": "markdown",
   "id": "a1f4d100",
   "metadata": {},
   "source": [
    "* To"
   ]
  },
  {
   "cell_type": "code",
   "execution_count": 9,
   "id": "df361c01",
   "metadata": {},
   "outputs": [
    {
     "data": {
      "text/plain": [
       "'0x3c16183c1C0E28F1a0cB9F8ee4b21D0Db208cA46'"
      ]
     },
     "execution_count": 9,
     "metadata": {},
     "output_type": "execute_result"
    }
   ],
   "source": [
    "recipient= web3.eth.get_transaction(transaction).to\n",
    "recipient"
   ]
  },
  {
   "cell_type": "markdown",
   "id": "543f2a12",
   "metadata": {},
   "source": [
    "* Value"
   ]
  },
  {
   "cell_type": "code",
   "execution_count": 10,
   "id": "d082cf68",
   "metadata": {},
   "outputs": [
    {
     "data": {
      "text/plain": [
       "48.0"
      ]
     },
     "execution_count": 10,
     "metadata": {},
     "output_type": "execute_result"
    }
   ],
   "source": [
    "value= web3.eth.get_transaction(transaction).value\n",
    "value*10**-18"
   ]
  },
  {
   "cell_type": "markdown",
   "id": "8b2a624c",
   "metadata": {},
   "source": [
    "* Data"
   ]
  },
  {
   "cell_type": "code",
   "execution_count": 11,
   "id": "13504569",
   "metadata": {},
   "outputs": [
    {
     "data": {
      "text/plain": [
       "'0x'"
      ]
     },
     "execution_count": 11,
     "metadata": {},
     "output_type": "execute_result"
    }
   ],
   "source": [
    "data= web3.eth.get_transaction(transaction).input\n",
    "data"
   ]
  },
  {
   "cell_type": "code",
   "execution_count": 12,
   "id": "ad897a67",
   "metadata": {},
   "outputs": [],
   "source": [
    "transaction_ba='0xb3827bb3cca1a693ec69edb744755f64d8ff8c90f89f69cbfbfafd17b0083159'"
   ]
  },
  {
   "cell_type": "code",
   "execution_count": 13,
   "id": "019b2d60",
   "metadata": {},
   "outputs": [
    {
     "data": {
      "text/plain": [
       "'0xa723533e0000000000000000000000000000000000000000000000000000000000000001'"
      ]
     },
     "execution_count": 13,
     "metadata": {},
     "output_type": "execute_result"
    }
   ],
   "source": [
    "data_ba= web3.eth.get_transaction(transaction_ba).input\n",
    "data_ba"
   ]
  },
  {
   "cell_type": "code",
   "execution_count": 14,
   "id": "91b7c876",
   "metadata": {},
   "outputs": [],
   "source": [
    "bored_ape= web3.eth.get_transaction(transaction_ba)"
   ]
  },
  {
   "cell_type": "code",
   "execution_count": 15,
   "id": "47291e12",
   "metadata": {},
   "outputs": [],
   "source": [
    "sc_address=\"0xBC4CA0EdA7647A8aB7C2061c2E118A18a936f13D\"\n",
    "with open (\"./ba_abi.json\") as f:\n",
    "    abi= json.load (f)"
   ]
  },
  {
   "cell_type": "code",
   "execution_count": 16,
   "id": "f12f1f2c",
   "metadata": {},
   "outputs": [],
   "source": [
    "baContract = web3.eth.contract(address=sc_address, abi=abi)"
   ]
  },
  {
   "cell_type": "code",
   "execution_count": 17,
   "id": "f7ac55ab",
   "metadata": {},
   "outputs": [
    {
     "name": "stdout",
     "output_type": "stream",
     "text": [
      "<Function mintApe(uint256)> parameters:  {'numberOfTokens': 1}\n"
     ]
    }
   ],
   "source": [
    "function, parameters = baContract.decode_function_input(bored_ape[\"input\"])\n",
    "print (function, 'parameters: ',parameters )"
   ]
  },
  {
   "cell_type": "markdown",
   "id": "6037b66e",
   "metadata": {},
   "source": [
    "* Log events"
   ]
  },
  {
   "cell_type": "code",
   "execution_count": 18,
   "id": "d014a0bb",
   "metadata": {},
   "outputs": [],
   "source": [
    "abi_events = [abi for abi in baContract.abi if abi[\"type\"] == \"event\"]\n",
    "for event in abi_events:\n",
    "    name = event[\"name\"]\n",
    "    inputs = [param[\"type\"] for param in event[\"inputs\"]]\n",
    "    inputs = \",\".join(inputs)\n",
    "    event_abi_human = f\"{name}({inputs})\"\n",
    "    event_abi_hex = web3.toHex(web3.keccak(text=event_abi_human))"
   ]
  },
  {
   "cell_type": "code",
   "execution_count": 19,
   "id": "84ffcce6",
   "metadata": {},
   "outputs": [
    {
     "data": {
      "text/plain": [
       "(AttributeDict({'args': AttributeDict({'from': '0x0000000000000000000000000000000000000000',\n",
       "   'to': '0x9909017A0F637380af916257D05c3e7dD2F6c68a',\n",
       "   'tokenId': 6633}),\n",
       "  'event': 'Transfer',\n",
       "  'logIndex': 124,\n",
       "  'transactionIndex': 321,\n",
       "  'transactionHash': HexBytes('0xb3827bb3cca1a693ec69edb744755f64d8ff8c90f89f69cbfbfafd17b0083159'),\n",
       "  'address': '0xBC4CA0EdA7647A8aB7C2061c2E118A18a936f13D',\n",
       "  'blockHash': HexBytes('0x26537966b001e26c3c960bfb619d1af5fdd4d04c54596fb50a3a94d73bf66a69'),\n",
       "  'blockNumber': 12347114}),)"
      ]
     },
     "execution_count": 19,
     "metadata": {},
     "output_type": "execute_result"
    }
   ],
   "source": [
    "txreceipt= web3.eth.getTransactionReceipt (transaction_ba)\n",
    "for l in range (0, len (txreceipt['logs'])):\n",
    "    event_hex = web3.toHex(txreceipt['logs'][l]['topics'][0])\n",
    "    if event_abi_hex == event_hex:\n",
    "        decoded_logs = baContract.events[event[\"name\"]]().processReceipt(txreceipt)\n",
    "decoded_logs"
   ]
  }
 ],
 "metadata": {
  "kernelspec": {
   "display_name": "Python 3 (ipykernel)",
   "language": "python",
   "name": "python3"
  },
  "language_info": {
   "codemirror_mode": {
    "name": "ipython",
    "version": 3
   },
   "file_extension": ".py",
   "mimetype": "text/x-python",
   "name": "python",
   "nbconvert_exporter": "python",
   "pygments_lexer": "ipython3",
   "version": "3.8.13"
  }
 },
 "nbformat": 4,
 "nbformat_minor": 5
}
