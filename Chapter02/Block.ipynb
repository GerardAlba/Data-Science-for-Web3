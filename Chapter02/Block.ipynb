{
 "cells": [
  {
   "cell_type": "markdown",
   "id": "ca079eb6",
   "metadata": {},
   "source": [
    "### Introduction:\n",
    "This notebook corresponds to Chapter 2. The primary objective of this notebook is to provide practical code examples that complement the explanations given in the chapter. Here, we will focus on demonstrating the information retrieved from the Ethereum blockchain using the `Web3` library.\n",
    "\n",
    "By executing the provided code snippets, you will gain hands-on experience in accessing and analyzing block-related information. This practical approach aims to enhance your understanding of the concepts discussed in the chapter and strengthen your proficiency in working with Ethereum data. \n",
    "\n",
    "#### Imports\n",
    "\n",
    "Import the necessary libraries to run the notebook."
   ]
  },
  {
   "cell_type": "code",
   "execution_count": 1,
   "id": "02134aba",
   "metadata": {},
   "outputs": [],
   "source": [
    "from web3 import Web3\n",
    "from datetime import datetime\n",
    "import pandas as pd"
   ]
  },
  {
   "cell_type": "markdown",
   "id": "7ffc8124",
   "metadata": {},
   "source": [
    "#### Connection to the Ethereum Network\n",
    "Connect to the Ethereum network using the Web3 library. The `Web3` object is initialized with the URL of the Ethereum node provided by Infura. The `web3.isConnected()` method is used to check if the connection is successful."
   ]
  },
  {
   "cell_type": "code",
   "execution_count": 2,
   "id": "37aaa7b0",
   "metadata": {},
   "outputs": [
    {
     "data": {
      "text/plain": [
       "True"
      ]
     },
     "execution_count": 2,
     "metadata": {},
     "output_type": "execute_result"
    }
   ],
   "source": [
    "infura_url= 'https://mainnet.infura.io/v3/[YOUR API KEY]'\n",
    "web3= Web3(Web3.HTTPProvider (infura_url))\n",
    "web3.isConnected()"
   ]
  },
  {
   "cell_type": "markdown",
   "id": "92b5b2ef",
   "metadata": {},
   "source": [
    "## Analysis of a block\n",
    "#### Retrieve the Parent Hash\n",
    "Retrieve the parent hash of a given block using the `web3.eth.getBlock()` method. The `block_identifier` argument is used to specify the block number and the `parentHash` property is specified. "
   ]
  },
  {
   "cell_type": "code",
   "execution_count": 15,
   "id": "35b21f35",
   "metadata": {},
   "outputs": [
    {
     "data": {
      "text/plain": [
       "HexBytes('0x9b930569ef6794eb018d54d6a0768f4445f757d62ddffa79698cd5c1fea04b31')"
      ]
     },
     "execution_count": 15,
     "metadata": {},
     "output_type": "execute_result"
    }
   ],
   "source": [
    "parent= web3.eth.getBlock(block_identifier= 15813288).parentHash\n",
    "parent"
   ]
  },
  {
   "cell_type": "markdown",
   "id": "59cc2bea",
   "metadata": {},
   "source": [
    "#### Retrieving the Fee recipient \n",
    "Retrieve the validator (post-Merge) or miner (pre-Merge) or fee recipient of a given block using the `web3.eth.getBlock()` method, specifying the `miner` property. "
   ]
  },
  {
   "cell_type": "code",
   "execution_count": 9,
   "id": "f8c1c833",
   "metadata": {},
   "outputs": [
    {
     "data": {
      "text/plain": [
       "'0x690B9A9E9aa1C9dB991C7721a92d351Db4FaC990'"
      ]
     },
     "execution_count": 9,
     "metadata": {},
     "output_type": "execute_result"
    }
   ],
   "source": [
    "beneficiary= web3.eth.getBlock(block_identifier= 15813288).miner\n",
    "beneficiary"
   ]
  },
  {
   "cell_type": "markdown",
   "id": "56ca5895",
   "metadata": {},
   "source": [
    "#### Retrieving the Difficulty\n",
    "Retrieve the difficulty of a given block using the `web3.eth.getBlock()` method, specifying the block number and the `difficulty` property. In this case we analyze a block that was added post- 'The Merge'."
   ]
  },
  {
   "cell_type": "code",
   "execution_count": 20,
   "id": "e8a16397",
   "metadata": {},
   "outputs": [
    {
     "data": {
      "text/plain": [
       "0"
      ]
     },
     "execution_count": 20,
     "metadata": {},
     "output_type": "execute_result"
    }
   ],
   "source": [
    "difficulty= web3.eth.getBlock(block_identifier= 15813288).difficulty\n",
    "difficulty"
   ]
  },
  {
   "cell_type": "markdown",
   "id": "86f03a9b",
   "metadata": {},
   "source": [
    "In this case we analyze  the last block previous to the 'The Merge'. "
   ]
  },
  {
   "cell_type": "code",
   "execution_count": 35,
   "id": "1983885b",
   "metadata": {},
   "outputs": [
    {
     "data": {
      "text/plain": [
       "11055787484078698"
      ]
     },
     "execution_count": 35,
     "metadata": {},
     "output_type": "execute_result"
    }
   ],
   "source": [
    "difficulty= web3.eth.getBlock(block_identifier= 15537393).difficulty\n",
    "difficulty"
   ]
  },
  {
   "cell_type": "markdown",
   "id": "3a3d5037",
   "metadata": {},
   "source": [
    "#### Retrieve the totalDifficulty\n",
    "Calculate the total difficulty of a given block using the `web3.eth.getBlock()` method, specifying the block number and the `totalDifficulty` property. In this case we analyze a block that was added post - 'The Merge'. "
   ]
  },
  {
   "cell_type": "code",
   "execution_count": 21,
   "id": "53d9395f",
   "metadata": {},
   "outputs": [
    {
     "data": {
      "text/plain": [
       "58750003716598352816469"
      ]
     },
     "execution_count": 21,
     "metadata": {},
     "output_type": "execute_result"
    }
   ],
   "source": [
    "difficulty_total= web3.eth.getBlock(block_identifier= 15813288).totalDifficulty\n",
    "difficulty_total"
   ]
  },
  {
   "cell_type": "markdown",
   "id": "f2cde0af",
   "metadata": {},
   "source": [
    "In this case we analyze the last block previous to 'The Merge'. This is the last block where `totalDifficulty` changed because the consensus changed from PoW to PoS."
   ]
  },
  {
   "cell_type": "code",
   "execution_count": 36,
   "id": "9550027a",
   "metadata": {},
   "outputs": [
    {
     "data": {
      "text/plain": [
       "58750003716598352816469"
      ]
     },
     "execution_count": 36,
     "metadata": {},
     "output_type": "execute_result"
    }
   ],
   "source": [
    "difficulty_total= web3.eth.getBlock(block_identifier= 15537393).totalDifficulty\n",
    "difficulty_total"
   ]
  },
  {
   "cell_type": "markdown",
   "id": "2cb6f508",
   "metadata": {},
   "source": [
    "#### Retrieve the Block Number\n",
    "Retrieve the block number of a given block using the `web3.eth.getBlock()` method. If we do not use the `block_identifier` argument, it will show the latest block number. "
   ]
  },
  {
   "cell_type": "code",
   "execution_count": 22,
   "id": "0ac8c71d",
   "metadata": {},
   "outputs": [
    {
     "data": {
      "text/plain": [
       "15813288"
      ]
     },
     "execution_count": 22,
     "metadata": {},
     "output_type": "execute_result"
    }
   ],
   "source": [
    "number= web3.eth.getBlock(block_identifier= 15813288).number\n",
    "number"
   ]
  },
  {
   "cell_type": "markdown",
   "id": "1e27baf5",
   "metadata": {},
   "source": [
    "#### Retrieve the Block Size\n",
    "Retrieve the size of a given block using the `web3.eth.getBlock()` method, specifying the block number and the `size` property."
   ]
  },
  {
   "cell_type": "code",
   "execution_count": 23,
   "id": "bc0510ee",
   "metadata": {},
   "outputs": [
    {
     "data": {
      "text/plain": [
       "63648"
      ]
     },
     "execution_count": 23,
     "metadata": {},
     "output_type": "execute_result"
    }
   ],
   "source": [
    "size= web3.eth.getBlock(block_identifier= 15813288).size\n",
    "size "
   ]
  },
  {
   "cell_type": "markdown",
   "id": "17387f1a",
   "metadata": {},
   "source": [
    "#### Retrieve the Gas Limit\n",
    "Retrieve the gas limit of a given block using the `web3.eth.getBlock()` method, specifying the block number and the `gasLimit` property."
   ]
  },
  {
   "cell_type": "code",
   "execution_count": 24,
   "id": "da8e8c1c",
   "metadata": {},
   "outputs": [
    {
     "data": {
      "text/plain": [
       "30000000"
      ]
     },
     "execution_count": 24,
     "metadata": {},
     "output_type": "execute_result"
    }
   ],
   "source": [
    "g_limit= web3.eth.getBlock(block_identifier= 15813288).gasLimit\n",
    "g_limit "
   ]
  },
  {
   "cell_type": "markdown",
   "id": "a603fd94",
   "metadata": {},
   "source": [
    "#### Retrieve the Gas Used\n",
    "Retrieve the gas used of a given block using the `web3.eth.getBlock()` method, specifying the block number and the `gasUsed` property."
   ]
  },
  {
   "cell_type": "code",
   "execution_count": 25,
   "id": "b41518c7",
   "metadata": {},
   "outputs": [
    {
     "data": {
      "text/plain": [
       "13247169"
      ]
     },
     "execution_count": 25,
     "metadata": {},
     "output_type": "execute_result"
    }
   ],
   "source": [
    "g_used= web3.eth.getBlock(block_identifier= 15813288).gasUsed \n",
    "g_used"
   ]
  },
  {
   "cell_type": "markdown",
   "id": "4e5072f5",
   "metadata": {},
   "source": [
    "#### Calculating the Percentage of Gas Used\n",
    "Calculate the percentage of gas used of a given block by dividing `gas used` by `gas limit`."
   ]
  },
  {
   "cell_type": "code",
   "execution_count": 31,
   "id": "d1eb9de8",
   "metadata": {},
   "outputs": [
    {
     "data": {
      "text/plain": [
       "44.15723"
      ]
     },
     "execution_count": 31,
     "metadata": {},
     "output_type": "execute_result"
    }
   ],
   "source": [
    "percentage_used= (g_used/g_limit)*100\n",
    "percentage_used"
   ]
  },
  {
   "cell_type": "markdown",
   "id": "77ef5d94",
   "metadata": {},
   "source": [
    "#### Retrieve the Base Fee Per Gas\n",
    "Retrieve the base fee per gas of a given block using the `web3.eth.getBlock()` method, specifying the block number and `baseFeePerGas` property. "
   ]
  },
  {
   "cell_type": "code",
   "execution_count": 44,
   "id": "39584d8e",
   "metadata": {},
   "outputs": [
    {
     "data": {
      "text/plain": [
       "15649778689"
      ]
     },
     "execution_count": 44,
     "metadata": {},
     "output_type": "execute_result"
    }
   ],
   "source": [
    "g_fee= web3.eth.getBlock(block_identifier= 15813288).baseFeePerGas \n",
    "g_fee"
   ]
  },
  {
   "cell_type": "markdown",
   "id": "102f8cf2",
   "metadata": {},
   "source": [
    "#### Retrieve the Block time\n",
    "Retrieve the timestamp of a given block using the `web3.eth.getBlock()` method, specifying the block number and the `timestamp` property. We also convert it to a human-readable format using the `datetime.utcfromtimestamp()` method. "
   ]
  },
  {
   "cell_type": "code",
   "execution_count": 34,
   "id": "4e9d7830",
   "metadata": {},
   "outputs": [
    {
     "name": "stdout",
     "output_type": "stream",
     "text": [
      "1666557983\n",
      "2022-10-23 20:46:23\n"
     ]
    }
   ],
   "source": [
    "timestamp= web3.eth.getBlock(block_identifier= 15813288).timestamp\n",
    "print (timestamp)\n",
    "print(datetime.utcfromtimestamp(timestamp).strftime('%Y-%m-%d %H:%M:%S'))"
   ]
  },
  {
   "cell_type": "markdown",
   "id": "efbeb3ec",
   "metadata": {},
   "source": [
    "#### Retrieving the Nonce\n",
    "Retrieve the nonce of a given block using the `web3.eth.getBlock()` method, specifying the block number and the `nonce` property. In this case we analyze a block added post 'The Merge'"
   ]
  },
  {
   "cell_type": "code",
   "execution_count": 37,
   "id": "7200ce9a",
   "metadata": {},
   "outputs": [
    {
     "data": {
      "text/plain": [
       "HexBytes('0x0000000000000000')"
      ]
     },
     "execution_count": 37,
     "metadata": {},
     "output_type": "execute_result"
    }
   ],
   "source": [
    "nonce= web3.eth.getBlock(block_identifier= 15813288).nonce\n",
    "nonce"
   ]
  },
  {
   "cell_type": "markdown",
   "id": "c04a572c",
   "metadata": {},
   "source": [
    "This is the nonce of the last block mined previous to 'The Merge'."
   ]
  },
  {
   "cell_type": "code",
   "execution_count": 38,
   "id": "8b84d82c",
   "metadata": {},
   "outputs": [
    {
     "data": {
      "text/plain": [
       "HexBytes('0x62a3ee77461d4fc9')"
      ]
     },
     "execution_count": 38,
     "metadata": {},
     "output_type": "execute_result"
    }
   ],
   "source": [
    "nonce= web3.eth.getBlock(block_identifier= 15537393).nonce\n",
    "nonce"
   ]
  },
  {
   "cell_type": "markdown",
   "id": "4820f46b",
   "metadata": {},
   "source": [
    "#### Counting the Transactions of a Block\n",
    "Count the number of transactions in a given block using the `web3.eth.getBlock()` method, specifying the block number and the `transactions` property. In this case, the last block before 'The Merge' only had one transaction. "
   ]
  },
  {
   "cell_type": "code",
   "execution_count": 41,
   "id": "027e4884",
   "metadata": {},
   "outputs": [
    {
     "data": {
      "text/plain": [
       "1"
      ]
     },
     "execution_count": 41,
     "metadata": {},
     "output_type": "execute_result"
    }
   ],
   "source": [
    "transactions_list= len (web3.eth.getBlock(block_identifier= 15537393).transactions)\n",
    "transactions_list"
   ]
  },
  {
   "cell_type": "markdown",
   "id": "7df98846",
   "metadata": {},
   "source": [
    "The block in the cell below had 112 transactions. "
   ]
  },
  {
   "cell_type": "code",
   "execution_count": 42,
   "id": "cde31440",
   "metadata": {},
   "outputs": [
    {
     "data": {
      "text/plain": [
       "112"
      ]
     },
     "execution_count": 42,
     "metadata": {},
     "output_type": "execute_result"
    }
   ],
   "source": [
    "transactions_list= len (web3.eth.getBlock(block_identifier=15813288).transactions)\n",
    "transactions_list"
   ]
  }
 ],
 "metadata": {
  "kernelspec": {
   "display_name": "Python 3 (ipykernel)",
   "language": "python",
   "name": "python3"
  },
  "language_info": {
   "codemirror_mode": {
    "name": "ipython",
    "version": 3
   },
   "file_extension": ".py",
   "mimetype": "text/x-python",
   "name": "python",
   "nbconvert_exporter": "python",
   "pygments_lexer": "ipython3",
   "version": "3.8.13"
  }
 },
 "nbformat": 4,
 "nbformat_minor": 5
}
