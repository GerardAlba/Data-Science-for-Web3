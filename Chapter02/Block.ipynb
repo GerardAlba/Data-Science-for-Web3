{
 "cells": [
  {
   "cell_type": "code",
   "execution_count": 1,
   "id": "24ce54d3",
   "metadata": {},
   "outputs": [],
   "source": [
    "from web3 import Web3\n",
    "from datetime import datetime\n",
    "import pandas as pd"
   ]
  },
  {
   "cell_type": "code",
   "execution_count": 2,
   "id": "1558b492",
   "metadata": {},
   "outputs": [
    {
     "data": {
      "text/plain": [
       "True"
      ]
     },
     "execution_count": 2,
     "metadata": {},
     "output_type": "execute_result"
    }
   ],
   "source": [
    "infura_url= 'https://mainnet.infura.io/v3/[YOUR API KEY]'\n",
    "web3= Web3(Web3.HTTPProvider (infura_url))\n",
    "web3.isConnected()"
   ]
  },
  {
   "cell_type": "code",
   "execution_count": 15,
   "id": "29d04c16",
   "metadata": {},
   "outputs": [
    {
     "data": {
      "text/plain": [
       "HexBytes('0x9b930569ef6794eb018d54d6a0768f4445f757d62ddffa79698cd5c1fea04b31')"
      ]
     },
     "execution_count": 15,
     "metadata": {},
     "output_type": "execute_result"
    }
   ],
   "source": [
    "parent= web3.eth.getBlock(block_identifier= 15813288).parentHash\n",
    "parent"
   ]
  },
  {
   "cell_type": "code",
   "execution_count": 9,
   "id": "7e14b90f",
   "metadata": {},
   "outputs": [
    {
     "data": {
      "text/plain": [
       "'0x690B9A9E9aa1C9dB991C7721a92d351Db4FaC990'"
      ]
     },
     "execution_count": 9,
     "metadata": {},
     "output_type": "execute_result"
    }
   ],
   "source": [
    "beneficiary= web3.eth.getBlock(block_identifier= 15813288).miner\n",
    "beneficiary"
   ]
  },
  {
   "cell_type": "code",
   "execution_count": 20,
   "id": "38722471",
   "metadata": {},
   "outputs": [
    {
     "data": {
      "text/plain": [
       "0"
      ]
     },
     "execution_count": 20,
     "metadata": {},
     "output_type": "execute_result"
    }
   ],
   "source": [
    "difficulty= web3.eth.getBlock(block_identifier= 15813288).difficulty\n",
    "difficulty"
   ]
  },
  {
   "cell_type": "code",
   "execution_count": 35,
   "id": "7919766e",
   "metadata": {},
   "outputs": [
    {
     "data": {
      "text/plain": [
       "11055787484078698"
      ]
     },
     "execution_count": 35,
     "metadata": {},
     "output_type": "execute_result"
    }
   ],
   "source": [
    "difficulty= web3.eth.getBlock(block_identifier= 15537393).difficulty\n",
    "difficulty"
   ]
  },
  {
   "cell_type": "code",
   "execution_count": 21,
   "id": "074d7af2",
   "metadata": {},
   "outputs": [
    {
     "data": {
      "text/plain": [
       "58750003716598352816469"
      ]
     },
     "execution_count": 21,
     "metadata": {},
     "output_type": "execute_result"
    }
   ],
   "source": [
    "difficulty_total= web3.eth.getBlock(block_identifier= 15813288).totalDifficulty\n",
    "difficulty_total"
   ]
  },
  {
   "cell_type": "code",
   "execution_count": 36,
   "id": "ece4e147",
   "metadata": {},
   "outputs": [
    {
     "data": {
      "text/plain": [
       "58750003716598352816469"
      ]
     },
     "execution_count": 36,
     "metadata": {},
     "output_type": "execute_result"
    }
   ],
   "source": [
    "difficulty_total= web3.eth.getBlock(block_identifier= 15537393).totalDifficulty\n",
    "difficulty_total"
   ]
  },
  {
   "cell_type": "code",
   "execution_count": 22,
   "id": "b372b5d3",
   "metadata": {},
   "outputs": [
    {
     "data": {
      "text/plain": [
       "15813288"
      ]
     },
     "execution_count": 22,
     "metadata": {},
     "output_type": "execute_result"
    }
   ],
   "source": [
    "number= web3.eth.getBlock(block_identifier= 15813288).number\n",
    "number"
   ]
  },
  {
   "cell_type": "code",
   "execution_count": 23,
   "id": "27faf399",
   "metadata": {},
   "outputs": [
    {
     "data": {
      "text/plain": [
       "63648"
      ]
     },
     "execution_count": 23,
     "metadata": {},
     "output_type": "execute_result"
    }
   ],
   "source": [
    "size= web3.eth.getBlock(block_identifier= 15813288).size\n",
    "size "
   ]
  },
  {
   "cell_type": "code",
   "execution_count": 24,
   "id": "edf95a9f",
   "metadata": {},
   "outputs": [
    {
     "data": {
      "text/plain": [
       "30000000"
      ]
     },
     "execution_count": 24,
     "metadata": {},
     "output_type": "execute_result"
    }
   ],
   "source": [
    "g_limit= web3.eth.getBlock(block_identifier= 15813288).gasLimit\n",
    "g_limit "
   ]
  },
  {
   "cell_type": "code",
   "execution_count": 25,
   "id": "57e16a3a",
   "metadata": {},
   "outputs": [
    {
     "data": {
      "text/plain": [
       "13247169"
      ]
     },
     "execution_count": 25,
     "metadata": {},
     "output_type": "execute_result"
    }
   ],
   "source": [
    "g_used= web3.eth.getBlock(block_identifier= 15813288).gasUsed \n",
    "g_used"
   ]
  },
  {
   "cell_type": "code",
   "execution_count": 31,
   "id": "09d9b9d7",
   "metadata": {},
   "outputs": [
    {
     "data": {
      "text/plain": [
       "44.15723"
      ]
     },
     "execution_count": 31,
     "metadata": {},
     "output_type": "execute_result"
    }
   ],
   "source": [
    "percentage_used= (g_used/g_limit)*100\n",
    "percentage_used"
   ]
  },
  {
   "cell_type": "code",
   "execution_count": 44,
   "id": "43047614",
   "metadata": {},
   "outputs": [
    {
     "data": {
      "text/plain": [
       "15649778689"
      ]
     },
     "execution_count": 44,
     "metadata": {},
     "output_type": "execute_result"
    }
   ],
   "source": [
    "g_fee= web3.eth.getBlock(block_identifier= 15813288).baseFeePerGas \n",
    "g_fee"
   ]
  },
  {
   "cell_type": "code",
   "execution_count": 34,
   "id": "a5dc599b",
   "metadata": {},
   "outputs": [
    {
     "name": "stdout",
     "output_type": "stream",
     "text": [
      "1666557983\n",
      "2022-10-23 20:46:23\n"
     ]
    }
   ],
   "source": [
    "timestamp= web3.eth.getBlock(block_identifier= 15813288).timestamp\n",
    "print (timestamp)\n",
    "print(datetime.utcfromtimestamp(timestamp).strftime('%Y-%m-%d %H:%M:%S'))"
   ]
  },
  {
   "cell_type": "code",
   "execution_count": 37,
   "id": "2d78f8af",
   "metadata": {},
   "outputs": [
    {
     "data": {
      "text/plain": [
       "HexBytes('0x0000000000000000')"
      ]
     },
     "execution_count": 37,
     "metadata": {},
     "output_type": "execute_result"
    }
   ],
   "source": [
    "nonce= web3.eth.getBlock(block_identifier= 15813288).nonce\n",
    "nonce"
   ]
  },
  {
   "cell_type": "code",
   "execution_count": 38,
   "id": "044f8ece",
   "metadata": {},
   "outputs": [
    {
     "data": {
      "text/plain": [
       "HexBytes('0x62a3ee77461d4fc9')"
      ]
     },
     "execution_count": 38,
     "metadata": {},
     "output_type": "execute_result"
    }
   ],
   "source": [
    "nonce= web3.eth.getBlock(block_identifier= 15537393).nonce\n",
    "nonce"
   ]
  },
  {
   "cell_type": "code",
   "execution_count": 41,
   "id": "64235c47",
   "metadata": {},
   "outputs": [
    {
     "data": {
      "text/plain": [
       "1"
      ]
     },
     "execution_count": 41,
     "metadata": {},
     "output_type": "execute_result"
    }
   ],
   "source": [
    "transactions_list= len (web3.eth.getBlock(block_identifier= 15537393).transactions)\n",
    "transactions_list"
   ]
  },
  {
   "cell_type": "code",
   "execution_count": 42,
   "id": "fb4dcabf",
   "metadata": {},
   "outputs": [
    {
     "data": {
      "text/plain": [
       "112"
      ]
     },
     "execution_count": 42,
     "metadata": {},
     "output_type": "execute_result"
    }
   ],
   "source": [
    "transactions_list= len (web3.eth.getBlock(block_identifier=15813288).transactions)\n",
    "transactions_list"
   ]
  }
 ],
 "metadata": {
  "kernelspec": {
   "display_name": "Python 3 (ipykernel)",
   "language": "python",
   "name": "python3"
  },
  "language_info": {
   "codemirror_mode": {
    "name": "ipython",
    "version": 3
   },
   "file_extension": ".py",
   "mimetype": "text/x-python",
   "name": "python",
   "nbconvert_exporter": "python",
   "pygments_lexer": "ipython3",
   "version": "3.8.13"
  }
 },
 "nbformat": 4,
 "nbformat_minor": 5
}
