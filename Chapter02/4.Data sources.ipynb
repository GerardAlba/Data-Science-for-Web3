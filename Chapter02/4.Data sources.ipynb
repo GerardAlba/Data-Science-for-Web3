{
 "cells": [
  {
   "cell_type": "markdown",
   "id": "9599106c",
   "metadata": {},
   "source": [
    "### Introduction:\n",
    "This notebook corresponds to Chapter 2. The primary objective of this notebook is to provide practical code examples that complement the explanations given in the chapter. Specifically, in this space we will delve into the topic of connecting to multiple data sources that contain on-chain data.\n",
    "\n",
    "By following the provided steps, you will be able to verify your access to these services and begin interacting with the available data.  This practical approach aims to enhance your understanding of the concepts discussed in the chapter and strengthen your proficiency in retrieving on-chain data. \n",
    "\n",
    "# Infura\n",
    "\n",
    "#### Import\n",
    "Import `Web3` library"
   ]
  },
  {
   "cell_type": "code",
   "execution_count": 1,
   "id": "fddfddc6",
   "metadata": {},
   "outputs": [],
   "source": [
    "from web3 import Web3"
   ]
  },
  {
   "cell_type": "markdown",
   "id": "a500f4f6",
   "metadata": {},
   "source": [
    "#### Connect to the Ethereum Network with Infura\n",
    "Connect to the Ethereum network using the Web3 library and Infura. The `web3.isConnected()` method will check if the connection is successful and return a boolean."
   ]
  },
  {
   "cell_type": "code",
   "execution_count": 2,
   "id": "becbb880",
   "metadata": {},
   "outputs": [
    {
     "data": {
      "text/plain": [
       "True"
      ]
     },
     "execution_count": 2,
     "metadata": {},
     "output_type": "execute_result"
    }
   ],
   "source": [
    "infura_url= 'https://mainnet.infura.io/v3/[YOUR API KEY]'\n",
    "web3= Web3(Web3.HTTPProvider (infura_url))\n",
    "web3.isConnected()"
   ]
  },
  {
   "cell_type": "markdown",
   "id": "a50c959f",
   "metadata": {},
   "source": [
    "#### Checking the Balance of a Specific Ethereum Address\n",
    "Use the Web3 library and Infura to check the balance of a specific Ethereum address calling the `web3.eth.get_balance()` method and passing the address as an argument."
   ]
  },
  {
   "cell_type": "code",
   "execution_count": 3,
   "id": "74d7fbca",
   "metadata": {},
   "outputs": [
    {
     "data": {
      "text/plain": [
       "43097223686071902495927"
      ]
     },
     "execution_count": 3,
     "metadata": {},
     "output_type": "execute_result"
    }
   ],
   "source": [
    "ronin_bridge_infura= web3.eth.get_balance('0x64192819Ac13Ef72bF6b5AE239AC672B43a9AF08')\n",
    "ronin_bridge_infura"
   ]
  },
  {
   "cell_type": "markdown",
   "id": "ceb7b171",
   "metadata": {},
   "source": [
    "# Covalent\n",
    "\n",
    "#### Import\n",
    "\n",
    "Import the `requests` library"
   ]
  },
  {
   "cell_type": "code",
   "execution_count": 4,
   "id": "e733ee8a",
   "metadata": {},
   "outputs": [],
   "source": [
    "import requests"
   ]
  },
  {
   "cell_type": "markdown",
   "id": "8574da0a",
   "metadata": {},
   "source": [
    "#### Checking the Balance of a Specific Ethereum Address\n",
    "Use the CovalentHQ API to check the balance of a specific Ethereum address. "
   ]
  },
  {
   "cell_type": "code",
   "execution_count": 5,
   "id": "c1231d4f",
   "metadata": {},
   "outputs": [],
   "source": [
    "url= \"https://api.covalenthq.com/v1/1/address/0x64192819Ac13Ef72bF6b5AE239AC672B43a9AF08/balances_v2/?quote-currency=USD&format=JSON&nft=false&no-nft-fetch=false&key=[YOUR API KEY]\"\n",
    "response= requests.get (url)\n",
    "data= response.json()"
   ]
  },
  {
   "cell_type": "markdown",
   "id": "3f2b16ab",
   "metadata": {},
   "source": [
    "Find the Ethereum balance in the response json. "
   ]
  },
  {
   "cell_type": "code",
   "execution_count": 6,
   "id": "337e0476",
   "metadata": {},
   "outputs": [
    {
     "data": {
      "text/plain": [
       "'43097223686071902495927'"
      ]
     },
     "execution_count": 6,
     "metadata": {},
     "output_type": "execute_result"
    }
   ],
   "source": [
    "ronin_bridge_covalent=data[\"data\"][\"items\"][1][\"balance\"]\n",
    "ronin_bridge_covalent"
   ]
  },
  {
   "cell_type": "markdown",
   "id": "fb6cb206",
   "metadata": {},
   "source": [
    "Follows the entire response json. Note that it returns all the tokens of the address, not only the Ethereum balance."
   ]
  },
  {
   "cell_type": "code",
   "execution_count": 7,
   "id": "a869f424",
   "metadata": {},
   "outputs": [
    {
     "data": {
      "text/plain": [
       "{'data': {'address': '0x64192819ac13ef72bf6b5ae239ac672b43a9af08',\n",
       "  'updated_at': '2022-11-12T17:32:56.098287428Z',\n",
       "  'next_update_at': '2022-11-12T17:37:56.098287778Z',\n",
       "  'quote_currency': 'USD',\n",
       "  'chain_id': 1,\n",
       "  'items': [{'contract_decimals': 18,\n",
       "    'contract_name': 'Axie Infinity Shard',\n",
       "    'contract_ticker_symbol': 'AXS',\n",
       "    'contract_address': '0xbb0e17ef65f82ab018d8edd776e8dd940327b28b',\n",
       "    'supports_erc': ['erc20'],\n",
       "    'logo_url': 'https://logos.covalenthq.com/tokens/1/0xbb0e17ef65f82ab018d8edd776e8dd940327b28b.png',\n",
       "    'last_transferred_at': '2022-11-12T17:30:59Z',\n",
       "    'native_token': False,\n",
       "    'type': 'cryptocurrency',\n",
       "    'balance': '78316329244141024328874751',\n",
       "    'balance_24h': '78317329979448863932724704',\n",
       "    'quote_rate': 6.6177397,\n",
       "    'quote_rate_24h': 7.2637744,\n",
       "    'quote': 518277100.0,\n",
       "    'quote_24h': 568879400.0,\n",
       "    'nft_data': None},\n",
       "   {'contract_decimals': 18,\n",
       "    'contract_name': 'Ether',\n",
       "    'contract_ticker_symbol': 'ETH',\n",
       "    'contract_address': '0xeeeeeeeeeeeeeeeeeeeeeeeeeeeeeeeeeeeeeeee',\n",
       "    'supports_erc': None,\n",
       "    'logo_url': 'https://www.covalenthq.com/static/images/icons/display-icons/ethereum-eth-logo.png',\n",
       "    'last_transferred_at': None,\n",
       "    'native_token': True,\n",
       "    'type': 'cryptocurrency',\n",
       "    'balance': '43097223686071902495927',\n",
       "    'balance_24h': '44700464892847423023184',\n",
       "    'quote_rate': 1270.224,\n",
       "    'quote_rate_24h': 1324.7073,\n",
       "    'quote': 54743130.0,\n",
       "    'quote_24h': 59215030.0,\n",
       "    'nft_data': None},\n",
       "   {'contract_decimals': 6,\n",
       "    'contract_name': 'USD Coin',\n",
       "    'contract_ticker_symbol': 'USDC',\n",
       "    'contract_address': '0xa0b86991c6218b36c1d19d4a2e9eb0ce3606eb48',\n",
       "    'supports_erc': ['erc20'],\n",
       "    'logo_url': 'https://logos.covalenthq.com/tokens/1/0xa0b86991c6218b36c1d19d4a2e9eb0ce3606eb48.png',\n",
       "    'last_transferred_at': '2022-11-12T17:21:47Z',\n",
       "    'native_token': False,\n",
       "    'type': 'stablecoin',\n",
       "    'balance': '11928280704856',\n",
       "    'balance_24h': '12086454803659',\n",
       "    'quote_rate': 1.0018647,\n",
       "    'quote_rate_24h': 1.0445821,\n",
       "    'quote': 11950523.0,\n",
       "    'quote_24h': 12625295.0,\n",
       "    'nft_data': None},\n",
       "   {'contract_decimals': 18,\n",
       "    'contract_name': 'Wrapped Ether',\n",
       "    'contract_ticker_symbol': 'WETH',\n",
       "    'contract_address': '0xc02aaa39b223fe8d0a0e5c4f27ead9083c756cc2',\n",
       "    'supports_erc': ['erc20'],\n",
       "    'logo_url': 'https://logos.covalenthq.com/tokens/1/0xc02aaa39b223fe8d0a0e5c4f27ead9083c756cc2.png',\n",
       "    'last_transferred_at': '2022-11-07T20:01:47Z',\n",
       "    'native_token': False,\n",
       "    'type': 'cryptocurrency',\n",
       "    'balance': '470000000000000000',\n",
       "    'balance_24h': '470000000000000000',\n",
       "    'quote_rate': 1269.3485,\n",
       "    'quote_rate_24h': 1314.6077,\n",
       "    'quote': 596.5938,\n",
       "    'quote_24h': 617.8656,\n",
       "    'nft_data': None},\n",
       "   {'contract_decimals': 18,\n",
       "    'contract_name': 'Crypto International',\n",
       "    'contract_ticker_symbol': 'CRI',\n",
       "    'contract_address': '0x12e951934246186f50146235d541d3bd1d463e4d',\n",
       "    'supports_erc': ['erc20'],\n",
       "    'logo_url': 'https://logos.covalenthq.com/tokens/1/0x12e951934246186f50146235d541d3bd1d463e4d.png',\n",
       "    'last_transferred_at': '2022-11-02T04:34:47Z',\n",
       "    'native_token': False,\n",
       "    'type': 'cryptocurrency',\n",
       "    'balance': '400000000000000000',\n",
       "    'balance_24h': '400000000000000000',\n",
       "    'quote_rate': 0.5650463,\n",
       "    'quote_rate_24h': 0.5709588,\n",
       "    'quote': 0.22601852,\n",
       "    'quote_24h': 0.22838351,\n",
       "    'nft_data': None},\n",
       "   {'contract_decimals': 18,\n",
       "    'contract_name': 'DOG COLLAR',\n",
       "    'contract_ticker_symbol': 'COLLAR',\n",
       "    'contract_address': '0x9783b81438c24848f85848f8df31845097341771',\n",
       "    'supports_erc': ['erc20'],\n",
       "    'logo_url': 'https://logos.covalenthq.com/tokens/1/0x9783b81438c24848f85848f8df31845097341771.png',\n",
       "    'last_transferred_at': '2022-10-24T09:30:47Z',\n",
       "    'native_token': False,\n",
       "    'type': 'cryptocurrency',\n",
       "    'balance': '10000000000000000000000000',\n",
       "    'balance_24h': '10000000000000000000000000',\n",
       "    'quote_rate': 3.959981e-09,\n",
       "    'quote_rate_24h': 4.213871e-09,\n",
       "    'quote': 0.039599806,\n",
       "    'quote_24h': 0.04213871,\n",
       "    'nft_data': None},\n",
       "   {'contract_decimals': 0,\n",
       "    'contract_name': '$ ethLR.com',\n",
       "    'contract_ticker_symbol': '$ ethLR.com @ $1290',\n",
       "    'contract_address': '0x14d1b27d79e97e96622618f9d4fa9b1e1e9ef082',\n",
       "    'supports_erc': ['erc20'],\n",
       "    'logo_url': 'https://logos.covalenthq.com/tokens/1/0x14d1b27d79e97e96622618f9d4fa9b1e1e9ef082.png',\n",
       "    'last_transferred_at': '2022-09-28T12:20:35Z',\n",
       "    'native_token': False,\n",
       "    'type': 'cryptocurrency',\n",
       "    'balance': '32',\n",
       "    'balance_24h': '32',\n",
       "    'quote_rate': None,\n",
       "    'quote_rate_24h': None,\n",
       "    'quote': 0.0,\n",
       "    'quote_24h': None,\n",
       "    'nft_data': None},\n",
       "   {'contract_decimals': 0,\n",
       "    'contract_name': '$ USDCNotice.com',\n",
       "    'contract_ticker_symbol': '$ USDCNotice.com <- Visit to secure your wallet!',\n",
       "    'contract_address': '0x17a10104cbc1ed155d083ead9fcf5c3440bb50e8',\n",
       "    'supports_erc': ['erc20'],\n",
       "    'logo_url': 'https://logos.covalenthq.com/tokens/1/0x17a10104cbc1ed155d083ead9fcf5c3440bb50e8.png',\n",
       "    'last_transferred_at': '2022-07-27T11:56:30Z',\n",
       "    'native_token': False,\n",
       "    'type': 'cryptocurrency',\n",
       "    'balance': '4214',\n",
       "    'balance_24h': '4214',\n",
       "    'quote_rate': None,\n",
       "    'quote_rate_24h': None,\n",
       "    'quote': 0.0,\n",
       "    'quote_24h': None,\n",
       "    'nft_data': None},\n",
       "   {'contract_decimals': 18,\n",
       "    'contract_name': 'EthFork2.com',\n",
       "    'contract_ticker_symbol': 'EthFork2.com',\n",
       "    'contract_address': '0x1f068a896560632a4d2e05044bd7f03834f1a465',\n",
       "    'supports_erc': ['erc20'],\n",
       "    'logo_url': 'https://logos.covalenthq.com/tokens/1/0x1f068a896560632a4d2e05044bd7f03834f1a465.png',\n",
       "    'last_transferred_at': '2022-08-27T08:23:03Z',\n",
       "    'native_token': False,\n",
       "    'type': 'cryptocurrency',\n",
       "    'balance': '350000000000000000000',\n",
       "    'balance_24h': '350000000000000000000',\n",
       "    'quote_rate': None,\n",
       "    'quote_rate_24h': None,\n",
       "    'quote': 0.0,\n",
       "    'quote_24h': None,\n",
       "    'nft_data': None},\n",
       "   {'contract_decimals': 0,\n",
       "    'contract_name': '$ USDCGift.com',\n",
       "    'contract_ticker_symbol': '$ USDCGift.com <- Visit to claim bonus',\n",
       "    'contract_address': '0x68ca006db91312cd60a2238ce775be5f9f738bba',\n",
       "    'supports_erc': ['erc20'],\n",
       "    'logo_url': 'https://logos.covalenthq.com/tokens/1/0x68ca006db91312cd60a2238ce775be5f9f738bba.png',\n",
       "    'last_transferred_at': '2022-11-11T12:18:47Z',\n",
       "    'native_token': False,\n",
       "    'type': 'cryptocurrency',\n",
       "    'balance': '7000',\n",
       "    'balance_24h': '7000',\n",
       "    'quote_rate': None,\n",
       "    'quote_rate_24h': None,\n",
       "    'quote': 0.0,\n",
       "    'quote_24h': None,\n",
       "    'nft_data': None},\n",
       "   {'contract_decimals': 18,\n",
       "    'contract_name': 'aWETH.io',\n",
       "    'contract_ticker_symbol': 'aWETH.io',\n",
       "    'contract_address': '0x8bfd593a85dc1165bb9d6842333bcd2da665fb39',\n",
       "    'supports_erc': ['erc20'],\n",
       "    'logo_url': 'https://logos.covalenthq.com/tokens/1/0x8bfd593a85dc1165bb9d6842333bcd2da665fb39.png',\n",
       "    'last_transferred_at': '2022-08-25T05:56:23Z',\n",
       "    'native_token': False,\n",
       "    'type': 'dust',\n",
       "    'balance': '0',\n",
       "    'balance_24h': '0',\n",
       "    'quote_rate': None,\n",
       "    'quote_rate_24h': None,\n",
       "    'quote': 0.0,\n",
       "    'quote_24h': None,\n",
       "    'nft_data': None},\n",
       "   {'contract_decimals': 18,\n",
       "    'contract_name': 'Eth2Fork.com',\n",
       "    'contract_ticker_symbol': 'Eth2Fork.com',\n",
       "    'contract_address': '0x8eb3fecaaa963c86d9b49004d9f28092f1db3d6c',\n",
       "    'supports_erc': ['erc20'],\n",
       "    'logo_url': 'https://logos.covalenthq.com/tokens/1/0x8eb3fecaaa963c86d9b49004d9f28092f1db3d6c.png',\n",
       "    'last_transferred_at': '2022-08-21T03:27:44Z',\n",
       "    'native_token': False,\n",
       "    'type': 'dust',\n",
       "    'balance': '0',\n",
       "    'balance_24h': '0',\n",
       "    'quote_rate': None,\n",
       "    'quote_rate_24h': None,\n",
       "    'quote': 0.0,\n",
       "    'quote_24h': None,\n",
       "    'nft_data': None},\n",
       "   {'contract_decimals': 0,\n",
       "    'contract_name': '$ USDCBonus.com',\n",
       "    'contract_ticker_symbol': '$ USDCBonus.com <- Visit to claim bonus',\n",
       "    'contract_address': '0x956f824b5a37673c6fc4a6904186cb3ba499349b',\n",
       "    'supports_erc': ['erc20'],\n",
       "    'logo_url': 'https://logos.covalenthq.com/tokens/1/0x956f824b5a37673c6fc4a6904186cb3ba499349b.png',\n",
       "    'last_transferred_at': '2022-11-07T11:55:35Z',\n",
       "    'native_token': False,\n",
       "    'type': 'cryptocurrency',\n",
       "    'balance': '7000',\n",
       "    'balance_24h': '7000',\n",
       "    'quote_rate': None,\n",
       "    'quote_rate_24h': None,\n",
       "    'quote': 0.0,\n",
       "    'quote_24h': None,\n",
       "    'nft_data': None},\n",
       "   {'contract_decimals': 6,\n",
       "    'contract_name': 'xenrewards.org',\n",
       "    'contract_ticker_symbol': 'claim rewards at [xenrewards.org]',\n",
       "    'contract_address': '0x979e082e39a537fc4b958013efb662c567829e79',\n",
       "    'supports_erc': ['erc20'],\n",
       "    'logo_url': 'https://logos.covalenthq.com/tokens/1/0x979e082e39a537fc4b958013efb662c567829e79.png',\n",
       "    'last_transferred_at': '2022-10-27T11:45:59Z',\n",
       "    'native_token': False,\n",
       "    'type': 'cryptocurrency',\n",
       "    'balance': '3289000000',\n",
       "    'balance_24h': '3289000000',\n",
       "    'quote_rate': None,\n",
       "    'quote_rate_24h': None,\n",
       "    'quote': 0.0,\n",
       "    'quote_24h': None,\n",
       "    'nft_data': None},\n",
       "   {'contract_decimals': 18,\n",
       "    'contract_name': 'forkSurvey.com',\n",
       "    'contract_ticker_symbol': 'forkSurvey.com',\n",
       "    'contract_address': '0xa08891636ba65305420faa600fdcca2476bb4613',\n",
       "    'supports_erc': ['erc20'],\n",
       "    'logo_url': 'https://logos.covalenthq.com/tokens/1/0xa08891636ba65305420faa600fdcca2476bb4613.png',\n",
       "    'last_transferred_at': '2022-08-24T04:06:34Z',\n",
       "    'native_token': False,\n",
       "    'type': 'dust',\n",
       "    'balance': '0',\n",
       "    'balance_24h': '0',\n",
       "    'quote_rate': 0.8528718,\n",
       "    'quote_rate_24h': None,\n",
       "    'quote': 0.0,\n",
       "    'quote_24h': None,\n",
       "    'nft_data': None},\n",
       "   {'contract_decimals': 18,\n",
       "    'contract_name': 'amto.site',\n",
       "    'contract_ticker_symbol': 'amto.site',\n",
       "    'contract_address': '0xa6d1537b3699905ac18a10718b282661425fd662',\n",
       "    'supports_erc': ['erc20'],\n",
       "    'logo_url': 'https://logos.covalenthq.com/tokens/1/0xa6d1537b3699905ac18a10718b282661425fd662.png',\n",
       "    'last_transferred_at': '2022-09-18T03:43:47Z',\n",
       "    'native_token': False,\n",
       "    'type': 'dust',\n",
       "    'balance': '0',\n",
       "    'balance_24h': '0',\n",
       "    'quote_rate': None,\n",
       "    'quote_rate_24h': None,\n",
       "    'quote': 0.0,\n",
       "    'quote_24h': None,\n",
       "    'nft_data': None},\n",
       "   {'contract_decimals': 3,\n",
       "    'contract_name': 'ALEO',\n",
       "    'contract_ticker_symbol': 'ALEO',\n",
       "    'contract_address': '0xa8162a07efa81602c3803772d18d1789a44fd87a',\n",
       "    'supports_erc': ['erc20'],\n",
       "    'logo_url': 'https://logos.covalenthq.com/tokens/1/0xa8162a07efa81602c3803772d18d1789a44fd87a.png',\n",
       "    'last_transferred_at': '2022-07-28T12:15:09Z',\n",
       "    'native_token': False,\n",
       "    'type': 'cryptocurrency',\n",
       "    'balance': '94000000',\n",
       "    'balance_24h': '94000000',\n",
       "    'quote_rate': None,\n",
       "    'quote_rate_24h': None,\n",
       "    'quote': 0.0,\n",
       "    'quote_24h': None,\n",
       "    'nft_data': None},\n",
       "   {'contract_decimals': 0,\n",
       "    'contract_name': 'Smooth Love Potion',\n",
       "    'contract_ticker_symbol': 'SLP',\n",
       "    'contract_address': '0xcc8fa225d80b9c7d42f96e9570156c65d6caaa25',\n",
       "    'supports_erc': ['erc20'],\n",
       "    'logo_url': 'https://logos.covalenthq.com/tokens/1/0xcc8fa225d80b9c7d42f96e9570156c65d6caaa25.png',\n",
       "    'last_transferred_at': '2022-11-12T17:15:11Z',\n",
       "    'native_token': False,\n",
       "    'type': 'dust',\n",
       "    'balance': '238964428',\n",
       "    'balance_24h': '239081326',\n",
       "    'quote_rate': 0.002544969,\n",
       "    'quote_rate_24h': 0.002722117,\n",
       "    'quote': 0.0,\n",
       "    'quote_24h': 0.0,\n",
       "    'nft_data': None},\n",
       "   {'contract_decimals': 18,\n",
       "    'contract_name': 'zkmoney.org',\n",
       "    'contract_ticker_symbol': 'zkmoney.org',\n",
       "    'contract_address': '0xed3de063c36bc2796ddeb02a65fc37be1b50b81d',\n",
       "    'supports_erc': ['erc20'],\n",
       "    'logo_url': 'https://logos.covalenthq.com/tokens/1/0xed3de063c36bc2796ddeb02a65fc37be1b50b81d.png',\n",
       "    'last_transferred_at': '2022-09-12T04:51:10Z',\n",
       "    'native_token': False,\n",
       "    'type': 'cryptocurrency',\n",
       "    'balance': '25000000000000000000000',\n",
       "    'balance_24h': '25000000000000000000000',\n",
       "    'quote_rate': None,\n",
       "    'quote_rate_24h': None,\n",
       "    'quote': 0.0,\n",
       "    'quote_24h': None,\n",
       "    'nft_data': None},\n",
       "   {'contract_decimals': 18,\n",
       "    'contract_name': 'amto.site',\n",
       "    'contract_ticker_symbol': 'amto.site',\n",
       "    'contract_address': '0xef13cec8ffaf97bc9351b8d422f5bda14c058c14',\n",
       "    'supports_erc': ['erc20'],\n",
       "    'logo_url': 'https://logos.covalenthq.com/tokens/1/0xef13cec8ffaf97bc9351b8d422f5bda14c058c14.png',\n",
       "    'last_transferred_at': '2022-09-18T01:55:23Z',\n",
       "    'native_token': False,\n",
       "    'type': 'dust',\n",
       "    'balance': '0',\n",
       "    'balance_24h': '0',\n",
       "    'quote_rate': None,\n",
       "    'quote_rate_24h': None,\n",
       "    'quote': 0.0,\n",
       "    'quote_24h': None,\n",
       "    'nft_data': None}],\n",
       "  'pagination': None},\n",
       " 'error': False,\n",
       " 'error_message': None,\n",
       " 'error_code': None}"
      ]
     },
     "execution_count": 7,
     "metadata": {},
     "output_type": "execute_result"
    }
   ],
   "source": [
    "data"
   ]
  },
  {
   "cell_type": "markdown",
   "id": "4c231729",
   "metadata": {},
   "source": [
    "# The Graph\n",
    "\n",
    "#### Connection\n",
    "Make a GraphQL query to the The Graph URL."
   ]
  },
  {
   "cell_type": "code",
   "execution_count": 8,
   "id": "0672cc40",
   "metadata": {},
   "outputs": [
    {
     "data": {
      "text/plain": [
       "<Response [200]>"
      ]
     },
     "execution_count": 8,
     "metadata": {},
     "output_type": "execute_result"
    }
   ],
   "source": [
    "url= \"https://gateway.thegraph.com/api/[[YOUR API KEY]]/subgraphs/id/[USER ID]\"\n",
    "query= \"\"\"\n",
    "{\n",
    "  domains(where:\n",
    "    {name: \"tommykethvault.eth\"\n",
    "}\n",
    "  ) {\n",
    "    id\n",
    "    name\n",
    "    labelName\n",
    "    labelhash\n",
    "    createdAt\n",
    "  }\n",
    "}\n",
    "\"\"\"\n",
    "response= requests.post (url, json={'query': query})\n",
    "response"
   ]
  },
  {
   "cell_type": "markdown",
   "id": "61bc776b",
   "metadata": {},
   "source": [
    "Follows the result in json format."
   ]
  },
  {
   "cell_type": "code",
   "execution_count": 9,
   "id": "43e532e7",
   "metadata": {},
   "outputs": [
    {
     "data": {
      "text/plain": [
       "{'data': {'domains': [{'id': '0x92cb12b7e06309f4a10cf795bbeff8af6218b62fde8aa77a30294ed4fe0aad30',\n",
       "    'name': 'tommykethvault.eth',\n",
       "    'labelName': 'tommykethvault',\n",
       "    'labelhash': '0xbec723bd7b8f0af20ae07cb801194a90e8281f5b49357d1c03ea2c53a4dc3588',\n",
       "    'createdAt': '1641869153'}]}}"
      ]
     },
     "execution_count": 9,
     "metadata": {},
     "output_type": "execute_result"
    }
   ],
   "source": [
    "data= response.json()\n",
    "data"
   ]
  },
  {
   "cell_type": "markdown",
   "id": "5f1de78d",
   "metadata": {},
   "source": [
    "# Moralis\n",
    "\n",
    "#### Connection\n",
    "Make an API call to Moralis and print the result."
   ]
  },
  {
   "cell_type": "code",
   "execution_count": 10,
   "id": "bb6dac5b",
   "metadata": {},
   "outputs": [
    {
     "name": "stdout",
     "output_type": "stream",
     "text": [
      "{\"balance\":\"43097223686071902495927\"}\n"
     ]
    }
   ],
   "source": [
    "url = \"https://deep-index.moralis.io/api/v2/0x64192819Ac13Ef72bF6b5AE239AC672B43a9AF08/balance?chain=eth\"\n",
    "headers = {\n",
    "    \"accept\": \"application/json\",\n",
    "    \"X-API-Key\": \"[YOUR API KEY]\"\n",
    "}\n",
    "\n",
    "response = requests.get(url, headers=headers)\n",
    "print(response.text)"
   ]
  },
  {
   "cell_type": "markdown",
   "id": "38a7385c",
   "metadata": {},
   "source": [
    "# Get block\n",
    "\n",
    "#### Checking Connection to RSK Network\n",
    "Create a connection to the RSK network using the Get Block service and `web3` library. Check if the connection is successful by calling the `isConnected()` method."
   ]
  },
  {
   "cell_type": "code",
   "execution_count": 11,
   "id": "93c1a2bb",
   "metadata": {},
   "outputs": [
    {
     "data": {
      "text/plain": [
       "True"
      ]
     },
     "execution_count": 11,
     "metadata": {},
     "output_type": "execute_result"
    }
   ],
   "source": [
    "getblock_url= 'https://rsk.getblock.io/[YOUR API KEY]/mainnet/'\n",
    "web3= Web3(Web3.HTTPProvider (getblock_url))\n",
    "web3.isConnected()"
   ]
  },
  {
   "cell_type": "markdown",
   "id": "5221a56d",
   "metadata": {},
   "source": [
    "#### Check Balance \n",
    "Get the balance of a random address using the `web3.eth.get_balance()` method."
   ]
  },
  {
   "cell_type": "code",
   "execution_count": 12,
   "id": "187f3501",
   "metadata": {},
   "outputs": [
    {
     "data": {
      "text/plain": [
       "1205583069127383"
      ]
     },
     "execution_count": 12,
     "metadata": {},
     "output_type": "execute_result"
    }
   ],
   "source": [
    "random_address_getblock= web3.eth.get_balance(web3.toChecksumAddress ('0x7f03B11a60F1339241F8AB4d90C3Acb434939b69'))\n",
    "random_address_getblock"
   ]
  },
  {
   "cell_type": "markdown",
   "id": "751a5714",
   "metadata": {},
   "source": [
    "# Flipside\n",
    "\n",
    "#### Import\n",
    "\n",
    "Import the `json` and `pandas` libraries"
   ]
  },
  {
   "cell_type": "code",
   "execution_count": null,
   "id": "ccf85cf3",
   "metadata": {},
   "outputs": [],
   "source": [
    "import json\n",
    "import pandas as pd"
   ]
  },
  {
   "cell_type": "markdown",
   "id": "359b67c5",
   "metadata": {},
   "source": [
    "Make an API call to Flipside passing the SQL query and get the `query run id`."
   ]
  },
  {
   "cell_type": "code",
   "execution_count": 2,
   "id": "c73a1670",
   "metadata": {},
   "outputs": [
    {
     "data": {
      "text/plain": [
       "'clig3qxra03kpoh0tp4a9y7po'"
      ]
     },
     "execution_count": 2,
     "metadata": {},
     "output_type": "execute_result"
    }
   ],
   "source": [
    "url = \"https://api-v2.flipsidecrypto.xyz/json-rpc\"\n",
    "\n",
    "payload = json.dumps({\n",
    "  \"jsonrpc\": \"2.0\",\n",
    "  \"method\": \"createQueryRun\",\n",
    "  \"params\": [\n",
    "    {\n",
    "      \"resultTTLHours\": 1,\n",
    "      \"maxAgeMinutes\": 0,\n",
    "    \"sql\": \"SELECT * from ethereum.core.fact_transactions limit 1\",\n",
    "      \"tags\": {\n",
    "        \"env\": \"test\"\n",
    "      },\n",
    "      \"dataSource\": \"snowflake-default\",\n",
    "      \"dataProvider\": \"flipside\"\n",
    "    }\n",
    "  ],\n",
    "  \"id\": 1\n",
    "})\n",
    "headers = {\n",
    "  'Content-Type': 'application/json',\n",
    "  'x-api-key': '[YOUR API KEY]'\n",
    "}\n",
    "\n",
    "response = requests.request(\"POST\", url, headers=headers, data=payload)\n",
    "data= response.json()\n",
    "queryid=data['result']['queryRun']['id']\n",
    "queryid"
   ]
  },
  {
   "cell_type": "markdown",
   "id": "7c685836",
   "metadata": {},
   "source": [
    "Confirm if the query has run. The alternatives are 'QUERY_STATE_SUCCESS' or 'QUERY_STATE_RUNNING'. In the second option we have to wait until the query has been successful."
   ]
  },
  {
   "cell_type": "code",
   "execution_count": 6,
   "id": "c2c23dd7",
   "metadata": {},
   "outputs": [
    {
     "data": {
      "text/plain": [
       "'QUERY_STATE_SUCCESS'"
      ]
     },
     "execution_count": 6,
     "metadata": {},
     "output_type": "execute_result"
    }
   ],
   "source": [
    "url = \"https://api-v2.flipsidecrypto.xyz/json-rpc\"\n",
    "\n",
    "payload = json.dumps({\n",
    "  \"jsonrpc\": \"2.0\",\n",
    "  \"method\": \"getQueryRun\",\n",
    "  \"params\": [\n",
    "    {\n",
    "      \"queryRunId\": queryid \n",
    "    }\n",
    "  ],\n",
    "  \"id\": 1\n",
    "})\n",
    "headers = {\n",
    "  'Content-Type': 'application/json',\n",
    "  'x-api-key': '[YOUR API KEY]'\n",
    "}\n",
    "\n",
    "response = requests.request(\"POST\", url, headers=headers, data=payload)\n",
    "response.json()['result']['queryRun']['state']"
   ]
  },
  {
   "cell_type": "markdown",
   "id": "79d7f97e",
   "metadata": {},
   "source": [
    "Extract the query results"
   ]
  },
  {
   "cell_type": "code",
   "execution_count": 5,
   "id": "32c42a2e",
   "metadata": {},
   "outputs": [
    {
     "data": {
      "text/html": [
       "<div>\n",
       "<style scoped>\n",
       "    .dataframe tbody tr th:only-of-type {\n",
       "        vertical-align: middle;\n",
       "    }\n",
       "\n",
       "    .dataframe tbody tr th {\n",
       "        vertical-align: top;\n",
       "    }\n",
       "\n",
       "    .dataframe thead th {\n",
       "        text-align: right;\n",
       "    }\n",
       "</style>\n",
       "<table border=\"1\" class=\"dataframe\">\n",
       "  <thead>\n",
       "    <tr style=\"text-align: right;\">\n",
       "      <th></th>\n",
       "      <th>block_number</th>\n",
       "      <th>block_timestamp</th>\n",
       "      <th>block_hash</th>\n",
       "      <th>tx_hash</th>\n",
       "      <th>nonce</th>\n",
       "      <th>position</th>\n",
       "      <th>origin_function_signature</th>\n",
       "      <th>from_address</th>\n",
       "      <th>to_address</th>\n",
       "      <th>eth_value</th>\n",
       "      <th>...</th>\n",
       "      <th>status</th>\n",
       "      <th>effective_gas_price</th>\n",
       "      <th>max_fee_per_gas</th>\n",
       "      <th>max_priority_fee_per_gas</th>\n",
       "      <th>r</th>\n",
       "      <th>s</th>\n",
       "      <th>v</th>\n",
       "      <th>tx_type</th>\n",
       "      <th>chain_id</th>\n",
       "      <th>__row_index</th>\n",
       "    </tr>\n",
       "  </thead>\n",
       "  <tbody>\n",
       "    <tr>\n",
       "      <th>0</th>\n",
       "      <td>8658101</td>\n",
       "      <td>2019-10-01T18:39:39.000Z</td>\n",
       "      <td>0x59616859685abdefdd07e63ac84448d93620bf92aabc...</td>\n",
       "      <td>0x9ad4010a0e1c900ab82b66df491883a6626f2ec8b4d3...</td>\n",
       "      <td>4228073</td>\n",
       "      <td>68</td>\n",
       "      <td>0xef343588</td>\n",
       "      <td>0xa7a7899d944fe658c4b0a1803bab2f490bd3849e</td>\n",
       "      <td>0x2a0c0dbecc7e4d658f48e01e3fa353f44050c208</td>\n",
       "      <td>0</td>\n",
       "      <td>...</td>\n",
       "      <td>SUCCESS</td>\n",
       "      <td>11</td>\n",
       "      <td>None</td>\n",
       "      <td>None</td>\n",
       "      <td>0x7e9807afad200f31ec9c56fbc7dc161018d5cdbb6a87...</td>\n",
       "      <td>0x29cc578d2e78dcac910607f68d1dcfac6f8c225e82f2...</td>\n",
       "      <td>0x25</td>\n",
       "      <td>0</td>\n",
       "      <td>1</td>\n",
       "      <td>0</td>\n",
       "    </tr>\n",
       "  </tbody>\n",
       "</table>\n",
       "<p>1 rows × 26 columns</p>\n",
       "</div>"
      ],
      "text/plain": [
       "   block_number           block_timestamp  \\\n",
       "0       8658101  2019-10-01T18:39:39.000Z   \n",
       "\n",
       "                                          block_hash  \\\n",
       "0  0x59616859685abdefdd07e63ac84448d93620bf92aabc...   \n",
       "\n",
       "                                             tx_hash    nonce  position  \\\n",
       "0  0x9ad4010a0e1c900ab82b66df491883a6626f2ec8b4d3...  4228073        68   \n",
       "\n",
       "  origin_function_signature                                from_address  \\\n",
       "0                0xef343588  0xa7a7899d944fe658c4b0a1803bab2f490bd3849e   \n",
       "\n",
       "                                   to_address  eth_value  ...   status  \\\n",
       "0  0x2a0c0dbecc7e4d658f48e01e3fa353f44050c208          0  ...  SUCCESS   \n",
       "\n",
       "   effective_gas_price  max_fee_per_gas  max_priority_fee_per_gas  \\\n",
       "0                   11             None                      None   \n",
       "\n",
       "                                                   r  \\\n",
       "0  0x7e9807afad200f31ec9c56fbc7dc161018d5cdbb6a87...   \n",
       "\n",
       "                                                   s     v  tx_type chain_id  \\\n",
       "0  0x29cc578d2e78dcac910607f68d1dcfac6f8c225e82f2...  0x25        0        1   \n",
       "\n",
       "  __row_index  \n",
       "0           0  \n",
       "\n",
       "[1 rows x 26 columns]"
      ]
     },
     "execution_count": 5,
     "metadata": {},
     "output_type": "execute_result"
    }
   ],
   "source": [
    "url = \"https://api-v2.flipsidecrypto.xyz/json-rpc\"\n",
    "\n",
    "payload = json.dumps({\n",
    "  \"jsonrpc\": \"2.0\",\n",
    "  \"method\": \"getQueryRunResults\",\n",
    "  \"params\": [\n",
    "    {\n",
    "      \"queryRunId\": queryid , \n",
    "      \"format\": \"csv\",\n",
    "      \"page\": {\n",
    "        \"number\": 1,\n",
    "        \"size\": 1\n",
    "      }\n",
    "    }\n",
    "  ],\n",
    "  \"id\": 1\n",
    "})\n",
    "headers = {\n",
    "  'Content-Type': 'application/json',\n",
    "  'x-api-key': '[YOUR API KEY]'\n",
    "}\n",
    "\n",
    "response = requests.request(\"POST\", url, headers=headers, data=payload)\n",
    "\n",
    "columnNames= response.json()['result']['columnNames']\n",
    "rows= response.json()['result']['rows']\n",
    "pd.DataFrame(rows, columns=columnNames)"
   ]
  }
 ],
 "metadata": {
  "kernelspec": {
   "display_name": "Python 3 (ipykernel)",
   "language": "python",
   "name": "python3"
  },
  "language_info": {
   "codemirror_mode": {
    "name": "ipython",
    "version": 3
   },
   "file_extension": ".py",
   "mimetype": "text/x-python",
   "name": "python",
   "nbconvert_exporter": "python",
   "pygments_lexer": "ipython3",
   "version": "3.8.13"
  }
 },
 "nbformat": 4,
 "nbformat_minor": 5
}
