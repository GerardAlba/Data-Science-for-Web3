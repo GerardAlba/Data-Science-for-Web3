{
  "nbformat": 4,
  "nbformat_minor": 0,
  "metadata": {
    "colab": {
      "provenance": []
    },
    "kernelspec": {
      "name": "python3",
      "display_name": "Python 3"
    },
    "language_info": {
      "name": "python"
    }
  },
  "cells": [
    {
      "cell_type": "code",
      "source": [
        "#!pip install web3\n",
        "#!pip install --force-reinstall jsonschema==3.2.0"
      ],
      "metadata": {
        "id": "i2-AzBgBCJ-s"
      },
      "execution_count": 1,
      "outputs": []
    },
    {
      "cell_type": "code",
      "execution_count": 2,
      "metadata": {
        "id": "T-4U6vZjBWbL"
      },
      "outputs": [],
      "source": [
        "from web3 import Web3\n",
        "from datetime import datetime\n",
        "import pandas as pd\n",
        "import requests\n",
        "import time"
      ]
    },
    {
      "cell_type": "code",
      "source": [
        "infura_url= 'https://mainnet.infura.io/v3/[YOUR INFURA KEY]'\n",
        "web3= Web3(Web3.HTTPProvider (infura_url))\n",
        "web3.isConnected()"
      ],
      "metadata": {
        "colab": {
          "base_uri": "https://localhost:8080/"
        },
        "id": "uzcG6EL02Q_a",
        "outputId": "c7a619cc-5f20-4734-ef36-3f7049d9a9a3"
      },
      "execution_count": 3,
      "outputs": [
        {
          "output_type": "execute_result",
          "data": {
            "text/plain": [
              "True"
            ]
          },
          "metadata": {},
          "execution_count": 3
        }
      ]
    },
    {
      "cell_type": "markdown",
      "source": [
        "**Exercise 1**\n",
        "\n",
        "## Sovryn"
      ],
      "metadata": {
        "id": "-mIJYtvpEZfN"
      }
    },
    {
      "cell_type": "code",
      "source": [
        "url=\"https://backend.sovryn.app/tvl\"\n",
        "response = requests.get(url)\n",
        "data= response.json()\n",
        "tvl_lending=data[\"tvlLending\"][\"totalUsd\"] #lending service\n",
        "tvl_amm=data[\"tvlAmm\"][\"totalUsd\"] #automated market makers\n",
        "tvl_protocol= data[\"tvlProtocol\"][\"totalUsd\"]\n",
        "tvl_sub=data[\"tvlSubprotocols\"][\"totalUsd\"]\n",
        "sovryn_tvl= tvl_lending + tvl_amm + tvl_protocol + tvl_sub\n",
        "sovryn_tvl"
      ],
      "metadata": {
        "colab": {
          "base_uri": "https://localhost:8080/"
        },
        "id": "nLo7Lgk2EraV",
        "outputId": "463693e4-0fcd-403c-eb01-da2d0e8665e8"
      },
      "execution_count": 4,
      "outputs": [
        {
          "output_type": "execute_result",
          "data": {
            "text/plain": [
              "18317494.722492155"
            ]
          },
          "metadata": {},
          "execution_count": 4
        }
      ]
    },
    {
      "cell_type": "markdown",
      "source": [
        "## Multichain"
      ],
      "metadata": {
        "id": "zfkFwpEuILYx"
      }
    },
    {
      "cell_type": "code",
      "source": [
        "url=\"https://netapi.anyswap.net/bridge/v2/info\"\n",
        "response = requests.get(url)\n",
        "data= response.json()\n",
        "chains=data ['bridgeList']"
      ],
      "metadata": {
        "id": "wRUaMPq7IZF1"
      },
      "execution_count": 5,
      "outputs": []
    },
    {
      "cell_type": "code",
      "source": [
        "addresses=[]\n",
        "addresses=list(filter(lambda element: element['chainId'] == '30', chains))"
      ],
      "metadata": {
        "id": "mdBVtyg9Syuv"
      },
      "execution_count": 6,
      "outputs": []
    },
    {
      "cell_type": "code",
      "source": [
        "tvl=[]\n",
        "for address in addresses:\n",
        "  if address ['type']=='bridge':\n",
        "    tvl.append (address['tvl'])\n",
        "  if address ['type']=='router' and address['label']!= None:\n",
        "    try:\n",
        "      url=\"https://api.coingecko.com/api/v3/simple/price?vs_currencies=usd&include_market_cap=true&ids=\"+ address['label']\n",
        "      response = requests.get(url)  \n",
        "      data= response.json()\n",
        "      gecko_mc= data [address['label']]['usd_market_cap']\n",
        "      tvl_routers = address ['tvl']\n",
        "      tvl.append (min (gecko_mc,tvl_routers))\n",
        "    except:\n",
        "      tvl.append (0)\n",
        "chain_tvl= sum(tvl)\n",
        "chain_tvl"
      ],
      "metadata": {
        "colab": {
          "base_uri": "https://localhost:8080/"
        },
        "id": "eKmyTPE_Y1iJ",
        "outputId": "9060af13-8b85-40e1-8116-32a83e944f89"
      },
      "execution_count": 7,
      "outputs": [
        {
          "output_type": "execute_result",
          "data": {
            "text/plain": [
              "13978.298850825031"
            ]
          },
          "metadata": {},
          "execution_count": 7
        }
      ]
    },
    {
      "cell_type": "markdown",
      "source": [
        "## Babel Fish\n",
        "\n",
        "According to their webpage BabelFish \"absorbs, aggregates and distributes USD-pegged stablecoins\", so we are multiplying the balances by USDT price. "
      ],
      "metadata": {
        "id": "CEeN8C3oyZf7"
      }
    },
    {
      "cell_type": "code",
      "source": [
        "url=\"https://api.covalenthq.com/v1/30/address/0x1440d19436bEeaF8517896bffB957a88EC95a00F/balances_v2/?quote-currency=USD&format=JSON&nft=false&no-nft-fetch=false&key=ckey_0784e6579a4747b5b627b9d28aa\"\n",
        "response = requests.get(url)\n",
        "data= response.json()\n",
        "\n",
        "url=\"https://api.coingecko.com/api/v3/simple/price?vs_currencies=usd&include_market_cap=true&ids=tether\"\n",
        "response = requests.get(url)  \n",
        "data_price= response.json()\n",
        "gecko_price= data_price ['tether']['usd']"
      ],
      "metadata": {
        "id": "rHgeW9jny9uU"
      },
      "execution_count": 8,
      "outputs": []
    },
    {
      "cell_type": "code",
      "source": [
        "#decimals=[]\n",
        "decimals=18\n",
        "balance=[]\n",
        "\n",
        "for contract in range(len (data ['data']['items'])):\n",
        "  if int(data ['data']['items'][contract]['balance'])!=0:\n",
        "    #decimals.append (data ['data']['items'][contract]['contract_decimals'])\n",
        "    balance.append (int(data ['data']['items'][contract]['balance']))\n"
      ],
      "metadata": {
        "id": "Trm7a4xm0Qe2"
      },
      "execution_count": 9,
      "outputs": []
    },
    {
      "cell_type": "code",
      "source": [
        "babel_tvl=0\n",
        "for item in balance:\n",
        "  balance_usdt = (item*10**-decimals)*gecko_price\n",
        "  babel_tvl += balance_usdt\n",
        "\n",
        "babel_tvl"
      ],
      "metadata": {
        "colab": {
          "base_uri": "https://localhost:8080/"
        },
        "id": "mw5ihObZ2URD",
        "outputId": "0b8622dd-08ac-403f-b275-f3d9369d5d58"
      },
      "execution_count": 10,
      "outputs": [
        {
          "output_type": "execute_result",
          "data": {
            "text/plain": [
              "7848490.254317084"
            ]
          },
          "metadata": {},
          "execution_count": 10
        }
      ]
    },
    {
      "cell_type": "markdown",
      "source": [
        "## Glitter finance\n",
        "\n",
        "Interacts between Solana and Algorand"
      ],
      "metadata": {
        "id": "bmC8K-qe6cgw"
      }
    },
    {
      "cell_type": "markdown",
      "source": [
        "### Solana"
      ],
      "metadata": {
        "id": "mbiF-VL6ApX3"
      }
    },
    {
      "cell_type": "code",
      "source": [
        "response = requests.post('https://solana-api.projectserum.com/', json={ \"jsonrpc\": \"2.0\", \"id\": 1, \"method\": \"getBalance\", \"params\": ['7xCU4nvqu3Nz3BBQckKzibp3kBav4xbkuqQ3WM9CBHdJ'] })\n",
        "data=response.json()\n",
        "\n",
        "\n",
        "url=\"https://api.coingecko.com/api/v3/simple/price?vs_currencies=usd&include_market_cap=true&ids=solana\"\n",
        "response = requests.get(url)  \n",
        "data_price= response.json()\n",
        "gecko_price= data_price ['solana']['usd']"
      ],
      "metadata": {
        "id": "2fNubBU25Bdk"
      },
      "execution_count": 11,
      "outputs": []
    },
    {
      "cell_type": "code",
      "source": [
        "solana_part= data['result']['value']\n",
        "sol_usdt = (solana_part*10**-9)*gecko_price\n",
        "sol_usdt"
      ],
      "metadata": {
        "colab": {
          "base_uri": "https://localhost:8080/"
        },
        "id": "bX0PrGKg7GcE",
        "outputId": "88613acb-6cff-44a2-8d19-11a8d14247e8"
      },
      "execution_count": 12,
      "outputs": [
        {
          "output_type": "execute_result",
          "data": {
            "text/plain": [
              "109592.17403117381"
            ]
          },
          "metadata": {},
          "execution_count": 12
        }
      ]
    },
    {
      "cell_type": "markdown",
      "source": [
        "### Algorand"
      ],
      "metadata": {
        "id": "Wsx4V-HdAvXx"
      }
    },
    {
      "cell_type": "code",
      "source": [
        "url=\"https://algoindexer.algoexplorerapi.io/v2/accounts/R7VCOR74LCUIFH5WKCCMZOS7ADLSDBQJ42YURFPDT3VGYTVNBNG7AIYTCQ\"\n",
        "response = requests.get(url)  \n",
        "algo= response.json()\n",
        "\n",
        "url=\"https://api.coingecko.com/api/v3/simple/price?vs_currencies=usd&include_market_cap=true&ids=algorand\"\n",
        "response = requests.get(url)  \n",
        "data_price= response.json()\n",
        "gecko_price= data_price ['algorand']['usd']"
      ],
      "metadata": {
        "id": "jP2u4_059AVM"
      },
      "execution_count": 13,
      "outputs": []
    },
    {
      "cell_type": "code",
      "source": [
        "algorand_part = algo['account']['amount']/1000000\n",
        "algo_usdt=algorand_part*gecko_price\n",
        "algo_usdt"
      ],
      "metadata": {
        "colab": {
          "base_uri": "https://localhost:8080/"
        },
        "id": "umIZ9rkQBN1D",
        "outputId": "3b8aad8f-823d-4168-d544-16bfae64d30b"
      },
      "execution_count": 14,
      "outputs": [
        {
          "output_type": "execute_result",
          "data": {
            "text/plain": [
              "50458.76929434799"
            ]
          },
          "metadata": {},
          "execution_count": 14
        }
      ]
    },
    {
      "cell_type": "code",
      "source": [
        "glitter_total= algo_usdt+balance_usdt\n",
        "glitter_total"
      ],
      "metadata": {
        "colab": {
          "base_uri": "https://localhost:8080/"
        },
        "id": "V0Xrm4UK-ZNg",
        "outputId": "4a922b73-d6f4-4c1f-90fc-36033d2b3a84"
      },
      "execution_count": 15,
      "outputs": [
        {
          "output_type": "execute_result",
          "data": {
            "text/plain": [
              "50459.22363639681"
            ]
          },
          "metadata": {},
          "execution_count": 15
        }
      ]
    },
    {
      "cell_type": "markdown",
      "source": [
        "**Exercise 2**"
      ],
      "metadata": {
        "id": "Ovh1p8B4Bvbk"
      }
    },
    {
      "cell_type": "code",
      "source": [
        "blocks_id=[]\n",
        "transaction_count=[]\n",
        "latest = web3.eth.blockNumber\n",
        "for i in range(0, 50):\n",
        "  block= (web3.eth.getBlock(latest - i))\n",
        "  blocks_id.append (block.number)\n",
        "  transaction_count.append (len(block.transactions))\n"
      ],
      "metadata": {
        "id": "vHmnaTBW15VG"
      },
      "execution_count": 16,
      "outputs": []
    },
    {
      "cell_type": "code",
      "source": [
        "adresses_to = []\n",
        "address_from=[]\n",
        "transaction_hash =[]\n",
        "value =[]\n",
        "\n",
        "for block, count in zip(blocks_id, transaction_count):\n",
        "  for tx in range (count):\n",
        "    data= (web3.eth.getTransactionByBlock (block,tx))\n",
        "    if (web3.fromWei((data.value),'ether')) > 50:\n",
        "        adresses_to.append (data.to)\n",
        "        address_from.append (data['from'])\n",
        "        transaction_hash.append (web3.toHex(data.hash))\n",
        "        value.append (web3.fromWei((data.value),'ether'))"
      ],
      "metadata": {
        "id": "VSYCR7nb7The"
      },
      "execution_count": 17,
      "outputs": []
    },
    {
      "cell_type": "code",
      "source": [
        "df = {'value':value, 'transaction_hash':transaction_hash,'adress_from':address_from ,'adress_to':adresses_to}\n",
        "df = pd.DataFrame(df)\n",
        "df=df.sort_values(by=['value'], ascending=False)\n",
        "df.head(10)"
      ],
      "metadata": {
        "colab": {
          "base_uri": "https://localhost:8080/",
          "height": 407
        },
        "id": "3ocYYPk6A4Ux",
        "outputId": "d27977ed-e910-400e-bbcf-7a9a9d1cd1cc"
      },
      "execution_count": 18,
      "outputs": [
        {
          "output_type": "execute_result",
          "data": {
            "text/plain": [
              "                   value                                   transaction_hash  \\\n",
              "2                 3489.1  0xa9ce075230da1cf849b44f2f30db685bfd912703beb0...   \n",
              "7                   1547  0xd3ae8fe70a80f0c7ccc70bc0cd5d266954aa3f5aa351...   \n",
              "3           420.64386656  0xd44d7f13c53ce12595d397eab2d2fa9cba6c444b2dd6...   \n",
              "6           268.08377833  0x3c9c46894d3f0213203da7265a56a4da9d0e9d7b5092...   \n",
              "8                    234  0xb3f47a4e1111147a4ff4f0964ab3c90b8478d1e92968...   \n",
              "4               153.9965  0x8254e9aa59d438e306b53c4ea6615db18a55d92472e8...   \n",
              "1  79.990607357653012784  0xc421f6876f8239587a0f860d7f8cd6c700c2794642e5...   \n",
              "0                   70.5  0x84fc5c2542174784c34f62b8b834894a8642af504032...   \n",
              "5                     70  0xed9f31e205e9c5f05ca4f82f8052d221400786bb1cf1...   \n",
              "9  68.692252406084034466  0x74ee0eccc3049dc2099290fa89c0e71e1258803bcf3d...   \n",
              "\n",
              "                                  adress_from  \\\n",
              "2  0xd24400ae8BfEBb18cA49Be86258a3C749cf46853   \n",
              "7  0x00514112B64626360445D45dae83327c989FacE2   \n",
              "3  0x9696f59E4d72E237BE84fFD425DCaD154Bf96976   \n",
              "6  0x9696f59E4d72E237BE84fFD425DCaD154Bf96976   \n",
              "8  0x6277a1073DFBE0Ea087E0eF8741DCE084831E782   \n",
              "4  0x267be1C1D684F78cb4F6a176C4911b741E4Ffdc0   \n",
              "1  0x285D153589c8fe208C9F00cc966D7A1d32A9A655   \n",
              "0  0x6cFdad0772EDC2EA15076A9706ec7c1F0a791aC1   \n",
              "5  0x1e218a3795479F1A9F0156F6E136db6f1613F7d8   \n",
              "9  0x0c8056914D4e49419EdB73516e18E0B8722593Eb   \n",
              "\n",
              "                                    adress_to  \n",
              "2  0x479Bc00624e58398f4Cf59D78884d12Fb515790A  \n",
              "7  0x7286fCB1f0B9652063325f9d9Dc6fef092D6E711  \n",
              "3  0x2Ca212aF7E65631d46A1cF406427f257D2976A71  \n",
              "6  0xb5964c355EdF06840E5917A9c9f3d51D2a233B36  \n",
              "8  0x794958f3Fb8af2e795308fc0948c4F6857D0AfBc  \n",
              "4  0x32d4703e5834F1b474B17DFdB0aC32Cc22575145  \n",
              "1  0x28C6c06298d514Db089934071355E5743bf21d60  \n",
              "0  0x74312363e45DCaBA76c59ec49a7Aa8A65a67EeD3  \n",
              "5  0xC02aaA39b223FE8D0A0e5C4F27eAD9083C756Cc2  \n",
              "9  0xb2dFF401DD22916162C211eba048B2e939344AAd  "
            ],
            "text/html": [
              "\n",
              "  <div id=\"df-36f47748-846a-4133-9393-fd9b38047e34\">\n",
              "    <div class=\"colab-df-container\">\n",
              "      <div>\n",
              "<style scoped>\n",
              "    .dataframe tbody tr th:only-of-type {\n",
              "        vertical-align: middle;\n",
              "    }\n",
              "\n",
              "    .dataframe tbody tr th {\n",
              "        vertical-align: top;\n",
              "    }\n",
              "\n",
              "    .dataframe thead th {\n",
              "        text-align: right;\n",
              "    }\n",
              "</style>\n",
              "<table border=\"1\" class=\"dataframe\">\n",
              "  <thead>\n",
              "    <tr style=\"text-align: right;\">\n",
              "      <th></th>\n",
              "      <th>value</th>\n",
              "      <th>transaction_hash</th>\n",
              "      <th>adress_from</th>\n",
              "      <th>adress_to</th>\n",
              "    </tr>\n",
              "  </thead>\n",
              "  <tbody>\n",
              "    <tr>\n",
              "      <th>2</th>\n",
              "      <td>3489.1</td>\n",
              "      <td>0xa9ce075230da1cf849b44f2f30db685bfd912703beb0...</td>\n",
              "      <td>0xd24400ae8BfEBb18cA49Be86258a3C749cf46853</td>\n",
              "      <td>0x479Bc00624e58398f4Cf59D78884d12Fb515790A</td>\n",
              "    </tr>\n",
              "    <tr>\n",
              "      <th>7</th>\n",
              "      <td>1547</td>\n",
              "      <td>0xd3ae8fe70a80f0c7ccc70bc0cd5d266954aa3f5aa351...</td>\n",
              "      <td>0x00514112B64626360445D45dae83327c989FacE2</td>\n",
              "      <td>0x7286fCB1f0B9652063325f9d9Dc6fef092D6E711</td>\n",
              "    </tr>\n",
              "    <tr>\n",
              "      <th>3</th>\n",
              "      <td>420.64386656</td>\n",
              "      <td>0xd44d7f13c53ce12595d397eab2d2fa9cba6c444b2dd6...</td>\n",
              "      <td>0x9696f59E4d72E237BE84fFD425DCaD154Bf96976</td>\n",
              "      <td>0x2Ca212aF7E65631d46A1cF406427f257D2976A71</td>\n",
              "    </tr>\n",
              "    <tr>\n",
              "      <th>6</th>\n",
              "      <td>268.08377833</td>\n",
              "      <td>0x3c9c46894d3f0213203da7265a56a4da9d0e9d7b5092...</td>\n",
              "      <td>0x9696f59E4d72E237BE84fFD425DCaD154Bf96976</td>\n",
              "      <td>0xb5964c355EdF06840E5917A9c9f3d51D2a233B36</td>\n",
              "    </tr>\n",
              "    <tr>\n",
              "      <th>8</th>\n",
              "      <td>234</td>\n",
              "      <td>0xb3f47a4e1111147a4ff4f0964ab3c90b8478d1e92968...</td>\n",
              "      <td>0x6277a1073DFBE0Ea087E0eF8741DCE084831E782</td>\n",
              "      <td>0x794958f3Fb8af2e795308fc0948c4F6857D0AfBc</td>\n",
              "    </tr>\n",
              "    <tr>\n",
              "      <th>4</th>\n",
              "      <td>153.9965</td>\n",
              "      <td>0x8254e9aa59d438e306b53c4ea6615db18a55d92472e8...</td>\n",
              "      <td>0x267be1C1D684F78cb4F6a176C4911b741E4Ffdc0</td>\n",
              "      <td>0x32d4703e5834F1b474B17DFdB0aC32Cc22575145</td>\n",
              "    </tr>\n",
              "    <tr>\n",
              "      <th>1</th>\n",
              "      <td>79.990607357653012784</td>\n",
              "      <td>0xc421f6876f8239587a0f860d7f8cd6c700c2794642e5...</td>\n",
              "      <td>0x285D153589c8fe208C9F00cc966D7A1d32A9A655</td>\n",
              "      <td>0x28C6c06298d514Db089934071355E5743bf21d60</td>\n",
              "    </tr>\n",
              "    <tr>\n",
              "      <th>0</th>\n",
              "      <td>70.5</td>\n",
              "      <td>0x84fc5c2542174784c34f62b8b834894a8642af504032...</td>\n",
              "      <td>0x6cFdad0772EDC2EA15076A9706ec7c1F0a791aC1</td>\n",
              "      <td>0x74312363e45DCaBA76c59ec49a7Aa8A65a67EeD3</td>\n",
              "    </tr>\n",
              "    <tr>\n",
              "      <th>5</th>\n",
              "      <td>70</td>\n",
              "      <td>0xed9f31e205e9c5f05ca4f82f8052d221400786bb1cf1...</td>\n",
              "      <td>0x1e218a3795479F1A9F0156F6E136db6f1613F7d8</td>\n",
              "      <td>0xC02aaA39b223FE8D0A0e5C4F27eAD9083C756Cc2</td>\n",
              "    </tr>\n",
              "    <tr>\n",
              "      <th>9</th>\n",
              "      <td>68.692252406084034466</td>\n",
              "      <td>0x74ee0eccc3049dc2099290fa89c0e71e1258803bcf3d...</td>\n",
              "      <td>0x0c8056914D4e49419EdB73516e18E0B8722593Eb</td>\n",
              "      <td>0xb2dFF401DD22916162C211eba048B2e939344AAd</td>\n",
              "    </tr>\n",
              "  </tbody>\n",
              "</table>\n",
              "</div>\n",
              "      <button class=\"colab-df-convert\" onclick=\"convertToInteractive('df-36f47748-846a-4133-9393-fd9b38047e34')\"\n",
              "              title=\"Convert this dataframe to an interactive table.\"\n",
              "              style=\"display:none;\">\n",
              "        \n",
              "  <svg xmlns=\"http://www.w3.org/2000/svg\" height=\"24px\"viewBox=\"0 0 24 24\"\n",
              "       width=\"24px\">\n",
              "    <path d=\"M0 0h24v24H0V0z\" fill=\"none\"/>\n",
              "    <path d=\"M18.56 5.44l.94 2.06.94-2.06 2.06-.94-2.06-.94-.94-2.06-.94 2.06-2.06.94zm-11 1L8.5 8.5l.94-2.06 2.06-.94-2.06-.94L8.5 2.5l-.94 2.06-2.06.94zm10 10l.94 2.06.94-2.06 2.06-.94-2.06-.94-.94-2.06-.94 2.06-2.06.94z\"/><path d=\"M17.41 7.96l-1.37-1.37c-.4-.4-.92-.59-1.43-.59-.52 0-1.04.2-1.43.59L10.3 9.45l-7.72 7.72c-.78.78-.78 2.05 0 2.83L4 21.41c.39.39.9.59 1.41.59.51 0 1.02-.2 1.41-.59l7.78-7.78 2.81-2.81c.8-.78.8-2.07 0-2.86zM5.41 20L4 18.59l7.72-7.72 1.47 1.35L5.41 20z\"/>\n",
              "  </svg>\n",
              "      </button>\n",
              "      \n",
              "  <style>\n",
              "    .colab-df-container {\n",
              "      display:flex;\n",
              "      flex-wrap:wrap;\n",
              "      gap: 12px;\n",
              "    }\n",
              "\n",
              "    .colab-df-convert {\n",
              "      background-color: #E8F0FE;\n",
              "      border: none;\n",
              "      border-radius: 50%;\n",
              "      cursor: pointer;\n",
              "      display: none;\n",
              "      fill: #1967D2;\n",
              "      height: 32px;\n",
              "      padding: 0 0 0 0;\n",
              "      width: 32px;\n",
              "    }\n",
              "\n",
              "    .colab-df-convert:hover {\n",
              "      background-color: #E2EBFA;\n",
              "      box-shadow: 0px 1px 2px rgba(60, 64, 67, 0.3), 0px 1px 3px 1px rgba(60, 64, 67, 0.15);\n",
              "      fill: #174EA6;\n",
              "    }\n",
              "\n",
              "    [theme=dark] .colab-df-convert {\n",
              "      background-color: #3B4455;\n",
              "      fill: #D2E3FC;\n",
              "    }\n",
              "\n",
              "    [theme=dark] .colab-df-convert:hover {\n",
              "      background-color: #434B5C;\n",
              "      box-shadow: 0px 1px 3px 1px rgba(0, 0, 0, 0.15);\n",
              "      filter: drop-shadow(0px 1px 2px rgba(0, 0, 0, 0.3));\n",
              "      fill: #FFFFFF;\n",
              "    }\n",
              "  </style>\n",
              "\n",
              "      <script>\n",
              "        const buttonEl =\n",
              "          document.querySelector('#df-36f47748-846a-4133-9393-fd9b38047e34 button.colab-df-convert');\n",
              "        buttonEl.style.display =\n",
              "          google.colab.kernel.accessAllowed ? 'block' : 'none';\n",
              "\n",
              "        async function convertToInteractive(key) {\n",
              "          const element = document.querySelector('#df-36f47748-846a-4133-9393-fd9b38047e34');\n",
              "          const dataTable =\n",
              "            await google.colab.kernel.invokeFunction('convertToInteractive',\n",
              "                                                     [key], {});\n",
              "          if (!dataTable) return;\n",
              "\n",
              "          const docLinkHtml = 'Like what you see? Visit the ' +\n",
              "            '<a target=\"_blank\" href=https://colab.research.google.com/notebooks/data_table.ipynb>data table notebook</a>'\n",
              "            + ' to learn more about interactive tables.';\n",
              "          element.innerHTML = '';\n",
              "          dataTable['output_type'] = 'display_data';\n",
              "          await google.colab.output.renderOutput(dataTable, element);\n",
              "          const docLink = document.createElement('div');\n",
              "          docLink.innerHTML = docLinkHtml;\n",
              "          element.appendChild(docLink);\n",
              "        }\n",
              "      </script>\n",
              "    </div>\n",
              "  </div>\n",
              "  "
            ]
          },
          "metadata": {},
          "execution_count": 18
        }
      ]
    },
    {
      "cell_type": "markdown",
      "source": [
        "**Exercise 3**\n",
        "\n",
        "Go to \"Proposed Solutions - Kaggle\""
      ],
      "metadata": {
        "id": "3fMsMJ2qOmvt"
      }
    }
  ]
}