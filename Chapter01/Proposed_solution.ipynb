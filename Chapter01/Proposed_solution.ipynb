{
 "cells": [
  {
   "cell_type": "markdown",
   "metadata": {},
   "source": [
    "## Installing Web3 and JSonschema\n",
    "The code in this cell will install the web3 and jsonschema packages. Web3 is a library for interacting with Ethereum, and jsonschema is a library for validating JSON data. Both of these packages are necessary for the code in the following cells to run properly if working on Google Colab."
   ]
  },
  {
   "cell_type": "code",
   "execution_count": 1,
   "metadata": {
    "id": "i2-AzBgBCJ-s"
   },
   "outputs": [],
   "source": [
    "#!pip install web3\n",
    "#!pip install --force-reinstall jsonschema==3.2.0"
   ]
  },
  {
   "cell_type": "markdown",
   "metadata": {},
   "source": [
    "## Importing Libraries\n",
    "The code in this cell will import the necessary libraries for the code in the following cells to run properly. The libraries imported are web3, datetime, pandas, requests, and time. Web3 is a library for interacting with Ethereum, datetime is a library for working with dates and times, pandas is a library for data analysis, requests is a library for making HTTP requests, and time is a library for working with time."
   ]
  },
  {
   "cell_type": "code",
   "execution_count": 2,
   "metadata": {
    "id": "T-4U6vZjBWbL"
   },
   "outputs": [],
   "source": [
    "from web3 import Web3\n",
    "from datetime import datetime\n",
    "import pandas as pd\n",
    "import requests\n",
    "import time"
   ]
  },
  {
   "cell_type": "markdown",
   "metadata": {},
   "source": [
    "## Connecting to Ethereum Network\n",
    "The code in this cell will connect to the Ethereum network using the Infura API. It will create a web3 object using the Infura URL provided, and then use the `web3.isConnected()` method to check if the connection was successful."
   ]
  },
  {
   "cell_type": "code",
   "execution_count": 3,
   "metadata": {
    "colab": {
     "base_uri": "https://localhost:8080/"
    },
    "id": "uzcG6EL02Q_a",
    "outputId": "c7a619cc-5f20-4734-ef36-3f7049d9a9a3"
   },
   "outputs": [
    {
     "data": {
      "text/plain": [
       "True"
      ]
     },
     "execution_count": 3,
     "metadata": {},
     "output_type": "execute_result"
    }
   ],
   "source": [
    "infura_url= 'https://mainnet.infura.io/v3/[YOUR INFURA KEY]'\n",
    "web3= Web3(Web3.HTTPProvider (infura_url))\n",
    "web3.isConnected()"
   ]
  },
  {
   "cell_type": "markdown",
   "metadata": {
    "id": "-mIJYtvpEZfN"
   },
   "source": [
    "**Exercise 1**\n",
    "\n",
    "#### Calculating Sovryn Total Value Locked\n",
    "The code in this cell will use the requests library to make a GET request to the Sovryn backend API. It will then parse the response and extract the total value locked (TVL) for the Sovryn lending service, automated market makers, protocol, and subprotocols. Finally, it will add all of these values together to calculate the total value locked for the Sovryn protocol."
   ]
  },
  {
   "cell_type": "code",
   "execution_count": 4,
   "metadata": {
    "colab": {
     "base_uri": "https://localhost:8080/"
    },
    "id": "nLo7Lgk2EraV",
    "outputId": "463693e4-0fcd-403c-eb01-da2d0e8665e8"
   },
   "outputs": [
    {
     "data": {
      "text/plain": [
       "18317494.722492155"
      ]
     },
     "execution_count": 4,
     "metadata": {},
     "output_type": "execute_result"
    }
   ],
   "source": [
    "url=\"https://backend.sovryn.app/tvl\"\n",
    "response = requests.get(url)\n",
    "data= response.json()\n",
    "tvl_lending=data[\"tvlLending\"][\"totalUsd\"] #lending service\n",
    "tvl_amm=data[\"tvlAmm\"][\"totalUsd\"] #automated market makers\n",
    "tvl_protocol= data[\"tvlProtocol\"][\"totalUsd\"]\n",
    "tvl_sub=data[\"tvlSubprotocols\"][\"totalUsd\"]\n",
    "sovryn_tvl= tvl_lending + tvl_amm + tvl_protocol + tvl_sub\n",
    "sovryn_tvl"
   ]
  },
  {
   "cell_type": "markdown",
   "metadata": {
    "id": "CEeN8C3oyZf7"
   },
   "source": [
    "## Babel Fish\n",
    "\n",
    "According to their webpage BabelFish \"absorbs, aggregates and distributes USD-pegged stablecoins\", so we are multiplying the balances by USDT price that we query from CoinGecko "
   ]
  },
  {
   "cell_type": "code",
   "execution_count": 8,
   "metadata": {
    "id": "rHgeW9jny9uU"
   },
   "outputs": [],
   "source": [
    "url=\"https://api.covalenthq.com/v1/30/address/0x1440d19436bEeaF8517896bffB957a88EC95a00F/balances_v2/?quote-currency=USD&format=JSON&nft=false&no-nft-fetch=false&key=ckey_0784e6579a4747b5b627b9d28aa\"\n",
    "response = requests.get(url)\n",
    "data= response.json()\n",
    "\n",
    "url=\"https://api.coingecko.com/api/v3/simple/price?vs_currencies=usd&include_market_cap=true&ids=tether\"\n",
    "response = requests.get(url)  \n",
    "data_price= response.json()\n",
    "gecko_price= data_price ['tether']['usd']"
   ]
  },
  {
   "cell_type": "markdown",
   "metadata": {},
   "source": [
    "The code in the following cells will loop through the data from the CovalentHQ API call and store the balance of each contract in the 'balance' list. It will then calculate the total value locked by summing the balances in the 'balance' list and multiplying them by 10 to the power of the decimals (18) and then multiplying it with the market price from the CoinGecko API call. It will then sum all the balances and store the result in the 'babel_tvl' variable."
   ]
  },
  {
   "cell_type": "code",
   "execution_count": 9,
   "metadata": {
    "id": "Trm7a4xm0Qe2"
   },
   "outputs": [],
   "source": [
    "decimals=18\n",
    "balance=[]\n",
    "\n",
    "for contract in range(len (data ['data']['items'])):\n",
    "  if int(data ['data']['items'][contract]['balance'])!=0:\n",
    "    balance.append (int(data ['data']['items'][contract]['balance']))\n"
   ]
  },
  {
   "cell_type": "code",
   "execution_count": 10,
   "metadata": {
    "colab": {
     "base_uri": "https://localhost:8080/"
    },
    "id": "mw5ihObZ2URD",
    "outputId": "0b8622dd-08ac-403f-b275-f3d9369d5d58"
   },
   "outputs": [
    {
     "data": {
      "text/plain": [
       "7848490.254317084"
      ]
     },
     "execution_count": 10,
     "metadata": {},
     "output_type": "execute_result"
    }
   ],
   "source": [
    "babel_tvl=0\n",
    "for item in balance:\n",
    "  balance_usdt = (item*10**-decimals)*gecko_price\n",
    "  babel_tvl += balance_usdt\n",
    "\n",
    "babel_tvl"
   ]
  },
  {
   "cell_type": "markdown",
   "metadata": {
    "id": "Ovh1p8B4Bvbk"
   },
   "source": [
    "**Exercise 2**\n",
    "\n",
    "#### Calculating Transaction Counts\n",
    "The code in this cell will use the web3 library to get the latest block number and then loop through the last 50 blocks. It will store the block numbers in the 'blocks_id' list and the number of transactions in each block in the 'transaction_count' list."
   ]
  },
  {
   "cell_type": "code",
   "execution_count": 16,
   "metadata": {
    "id": "vHmnaTBW15VG"
   },
   "outputs": [],
   "source": [
    "blocks_id=[]\n",
    "transaction_count=[]\n",
    "latest = web3.eth.blockNumber\n",
    "for i in range(0, 50):\n",
    "  block= (web3.eth.getBlock(latest - i))\n",
    "  blocks_id.append (block.number)\n",
    "  transaction_count.append (len(block.transactions))"
   ]
  },
  {
   "cell_type": "markdown",
   "metadata": {},
   "source": [
    "#### Filtering Transactions\n",
    "The code in this cell will loop through the blocks and transactions stored in the 'blocks_id' and 'transaction_count' lists. It will then filter out transactions with a value greater than 50 Ether and store the to and from addresses, transaction hash and value in the 'adresses_to', 'address_from', 'transaction_hash' and 'value' lists respectively.\n",
    "\n",
    "The code in the following cell will create a dataframe from the lists created in the previous cell and will then sort the dataframe by the 'value' column in descending order in order to display the top 10 rows."
   ]
  },
  {
   "cell_type": "code",
   "execution_count": 17,
   "metadata": {
    "id": "VSYCR7nb7The"
   },
   "outputs": [],
   "source": [
    "adresses_to = []\n",
    "address_from=[]\n",
    "transaction_hash =[]\n",
    "value =[]\n",
    "\n",
    "for block, count in zip(blocks_id, transaction_count):\n",
    "  for tx in range (count):\n",
    "    data= (web3.eth.getTransactionByBlock (block,tx))\n",
    "    if (web3.fromWei((data.value),'ether')) > 50:\n",
    "        adresses_to.append (data.to)\n",
    "        address_from.append (data['from'])\n",
    "        transaction_hash.append (web3.toHex(data.hash))\n",
    "        value.append (web3.fromWei((data.value),'ether'))"
   ]
  },
  {
   "cell_type": "code",
   "execution_count": 18,
   "metadata": {
    "colab": {
     "base_uri": "https://localhost:8080/",
     "height": 407
    },
    "id": "3ocYYPk6A4Ux",
    "outputId": "d27977ed-e910-400e-bbcf-7a9a9d1cd1cc"
   },
   "outputs": [
    {
     "data": {
      "text/html": [
       "\n",
       "  <div id=\"df-36f47748-846a-4133-9393-fd9b38047e34\">\n",
       "    <div class=\"colab-df-container\">\n",
       "      <div>\n",
       "<style scoped>\n",
       "    .dataframe tbody tr th:only-of-type {\n",
       "        vertical-align: middle;\n",
       "    }\n",
       "\n",
       "    .dataframe tbody tr th {\n",
       "        vertical-align: top;\n",
       "    }\n",
       "\n",
       "    .dataframe thead th {\n",
       "        text-align: right;\n",
       "    }\n",
       "</style>\n",
       "<table border=\"1\" class=\"dataframe\">\n",
       "  <thead>\n",
       "    <tr style=\"text-align: right;\">\n",
       "      <th></th>\n",
       "      <th>value</th>\n",
       "      <th>transaction_hash</th>\n",
       "      <th>adress_from</th>\n",
       "      <th>adress_to</th>\n",
       "    </tr>\n",
       "  </thead>\n",
       "  <tbody>\n",
       "    <tr>\n",
       "      <th>2</th>\n",
       "      <td>3489.1</td>\n",
       "      <td>0xa9ce075230da1cf849b44f2f30db685bfd912703beb0...</td>\n",
       "      <td>0xd24400ae8BfEBb18cA49Be86258a3C749cf46853</td>\n",
       "      <td>0x479Bc00624e58398f4Cf59D78884d12Fb515790A</td>\n",
       "    </tr>\n",
       "    <tr>\n",
       "      <th>7</th>\n",
       "      <td>1547</td>\n",
       "      <td>0xd3ae8fe70a80f0c7ccc70bc0cd5d266954aa3f5aa351...</td>\n",
       "      <td>0x00514112B64626360445D45dae83327c989FacE2</td>\n",
       "      <td>0x7286fCB1f0B9652063325f9d9Dc6fef092D6E711</td>\n",
       "    </tr>\n",
       "    <tr>\n",
       "      <th>3</th>\n",
       "      <td>420.64386656</td>\n",
       "      <td>0xd44d7f13c53ce12595d397eab2d2fa9cba6c444b2dd6...</td>\n",
       "      <td>0x9696f59E4d72E237BE84fFD425DCaD154Bf96976</td>\n",
       "      <td>0x2Ca212aF7E65631d46A1cF406427f257D2976A71</td>\n",
       "    </tr>\n",
       "    <tr>\n",
       "      <th>6</th>\n",
       "      <td>268.08377833</td>\n",
       "      <td>0x3c9c46894d3f0213203da7265a56a4da9d0e9d7b5092...</td>\n",
       "      <td>0x9696f59E4d72E237BE84fFD425DCaD154Bf96976</td>\n",
       "      <td>0xb5964c355EdF06840E5917A9c9f3d51D2a233B36</td>\n",
       "    </tr>\n",
       "    <tr>\n",
       "      <th>8</th>\n",
       "      <td>234</td>\n",
       "      <td>0xb3f47a4e1111147a4ff4f0964ab3c90b8478d1e92968...</td>\n",
       "      <td>0x6277a1073DFBE0Ea087E0eF8741DCE084831E782</td>\n",
       "      <td>0x794958f3Fb8af2e795308fc0948c4F6857D0AfBc</td>\n",
       "    </tr>\n",
       "    <tr>\n",
       "      <th>4</th>\n",
       "      <td>153.9965</td>\n",
       "      <td>0x8254e9aa59d438e306b53c4ea6615db18a55d92472e8...</td>\n",
       "      <td>0x267be1C1D684F78cb4F6a176C4911b741E4Ffdc0</td>\n",
       "      <td>0x32d4703e5834F1b474B17DFdB0aC32Cc22575145</td>\n",
       "    </tr>\n",
       "    <tr>\n",
       "      <th>1</th>\n",
       "      <td>79.990607357653012784</td>\n",
       "      <td>0xc421f6876f8239587a0f860d7f8cd6c700c2794642e5...</td>\n",
       "      <td>0x285D153589c8fe208C9F00cc966D7A1d32A9A655</td>\n",
       "      <td>0x28C6c06298d514Db089934071355E5743bf21d60</td>\n",
       "    </tr>\n",
       "    <tr>\n",
       "      <th>0</th>\n",
       "      <td>70.5</td>\n",
       "      <td>0x84fc5c2542174784c34f62b8b834894a8642af504032...</td>\n",
       "      <td>0x6cFdad0772EDC2EA15076A9706ec7c1F0a791aC1</td>\n",
       "      <td>0x74312363e45DCaBA76c59ec49a7Aa8A65a67EeD3</td>\n",
       "    </tr>\n",
       "    <tr>\n",
       "      <th>5</th>\n",
       "      <td>70</td>\n",
       "      <td>0xed9f31e205e9c5f05ca4f82f8052d221400786bb1cf1...</td>\n",
       "      <td>0x1e218a3795479F1A9F0156F6E136db6f1613F7d8</td>\n",
       "      <td>0xC02aaA39b223FE8D0A0e5C4F27eAD9083C756Cc2</td>\n",
       "    </tr>\n",
       "    <tr>\n",
       "      <th>9</th>\n",
       "      <td>68.692252406084034466</td>\n",
       "      <td>0x74ee0eccc3049dc2099290fa89c0e71e1258803bcf3d...</td>\n",
       "      <td>0x0c8056914D4e49419EdB73516e18E0B8722593Eb</td>\n",
       "      <td>0xb2dFF401DD22916162C211eba048B2e939344AAd</td>\n",
       "    </tr>\n",
       "  </tbody>\n",
       "</table>\n",
       "</div>\n",
       "      <button class=\"colab-df-convert\" onclick=\"convertToInteractive('df-36f47748-846a-4133-9393-fd9b38047e34')\"\n",
       "              title=\"Convert this dataframe to an interactive table.\"\n",
       "              style=\"display:none;\">\n",
       "        \n",
       "  <svg xmlns=\"http://www.w3.org/2000/svg\" height=\"24px\"viewBox=\"0 0 24 24\"\n",
       "       width=\"24px\">\n",
       "    <path d=\"M0 0h24v24H0V0z\" fill=\"none\"/>\n",
       "    <path d=\"M18.56 5.44l.94 2.06.94-2.06 2.06-.94-2.06-.94-.94-2.06-.94 2.06-2.06.94zm-11 1L8.5 8.5l.94-2.06 2.06-.94-2.06-.94L8.5 2.5l-.94 2.06-2.06.94zm10 10l.94 2.06.94-2.06 2.06-.94-2.06-.94-.94-2.06-.94 2.06-2.06.94z\"/><path d=\"M17.41 7.96l-1.37-1.37c-.4-.4-.92-.59-1.43-.59-.52 0-1.04.2-1.43.59L10.3 9.45l-7.72 7.72c-.78.78-.78 2.05 0 2.83L4 21.41c.39.39.9.59 1.41.59.51 0 1.02-.2 1.41-.59l7.78-7.78 2.81-2.81c.8-.78.8-2.07 0-2.86zM5.41 20L4 18.59l7.72-7.72 1.47 1.35L5.41 20z\"/>\n",
       "  </svg>\n",
       "      </button>\n",
       "      \n",
       "  <style>\n",
       "    .colab-df-container {\n",
       "      display:flex;\n",
       "      flex-wrap:wrap;\n",
       "      gap: 12px;\n",
       "    }\n",
       "\n",
       "    .colab-df-convert {\n",
       "      background-color: #E8F0FE;\n",
       "      border: none;\n",
       "      border-radius: 50%;\n",
       "      cursor: pointer;\n",
       "      display: none;\n",
       "      fill: #1967D2;\n",
       "      height: 32px;\n",
       "      padding: 0 0 0 0;\n",
       "      width: 32px;\n",
       "    }\n",
       "\n",
       "    .colab-df-convert:hover {\n",
       "      background-color: #E2EBFA;\n",
       "      box-shadow: 0px 1px 2px rgba(60, 64, 67, 0.3), 0px 1px 3px 1px rgba(60, 64, 67, 0.15);\n",
       "      fill: #174EA6;\n",
       "    }\n",
       "\n",
       "    [theme=dark] .colab-df-convert {\n",
       "      background-color: #3B4455;\n",
       "      fill: #D2E3FC;\n",
       "    }\n",
       "\n",
       "    [theme=dark] .colab-df-convert:hover {\n",
       "      background-color: #434B5C;\n",
       "      box-shadow: 0px 1px 3px 1px rgba(0, 0, 0, 0.15);\n",
       "      filter: drop-shadow(0px 1px 2px rgba(0, 0, 0, 0.3));\n",
       "      fill: #FFFFFF;\n",
       "    }\n",
       "  </style>\n",
       "\n",
       "      <script>\n",
       "        const buttonEl =\n",
       "          document.querySelector('#df-36f47748-846a-4133-9393-fd9b38047e34 button.colab-df-convert');\n",
       "        buttonEl.style.display =\n",
       "          google.colab.kernel.accessAllowed ? 'block' : 'none';\n",
       "\n",
       "        async function convertToInteractive(key) {\n",
       "          const element = document.querySelector('#df-36f47748-846a-4133-9393-fd9b38047e34');\n",
       "          const dataTable =\n",
       "            await google.colab.kernel.invokeFunction('convertToInteractive',\n",
       "                                                     [key], {});\n",
       "          if (!dataTable) return;\n",
       "\n",
       "          const docLinkHtml = 'Like what you see? Visit the ' +\n",
       "            '<a target=\"_blank\" href=https://colab.research.google.com/notebooks/data_table.ipynb>data table notebook</a>'\n",
       "            + ' to learn more about interactive tables.';\n",
       "          element.innerHTML = '';\n",
       "          dataTable['output_type'] = 'display_data';\n",
       "          await google.colab.output.renderOutput(dataTable, element);\n",
       "          const docLink = document.createElement('div');\n",
       "          docLink.innerHTML = docLinkHtml;\n",
       "          element.appendChild(docLink);\n",
       "        }\n",
       "      </script>\n",
       "    </div>\n",
       "  </div>\n",
       "  "
      ],
      "text/plain": [
       "                   value                                   transaction_hash  \\\n",
       "2                 3489.1  0xa9ce075230da1cf849b44f2f30db685bfd912703beb0...   \n",
       "7                   1547  0xd3ae8fe70a80f0c7ccc70bc0cd5d266954aa3f5aa351...   \n",
       "3           420.64386656  0xd44d7f13c53ce12595d397eab2d2fa9cba6c444b2dd6...   \n",
       "6           268.08377833  0x3c9c46894d3f0213203da7265a56a4da9d0e9d7b5092...   \n",
       "8                    234  0xb3f47a4e1111147a4ff4f0964ab3c90b8478d1e92968...   \n",
       "4               153.9965  0x8254e9aa59d438e306b53c4ea6615db18a55d92472e8...   \n",
       "1  79.990607357653012784  0xc421f6876f8239587a0f860d7f8cd6c700c2794642e5...   \n",
       "0                   70.5  0x84fc5c2542174784c34f62b8b834894a8642af504032...   \n",
       "5                     70  0xed9f31e205e9c5f05ca4f82f8052d221400786bb1cf1...   \n",
       "9  68.692252406084034466  0x74ee0eccc3049dc2099290fa89c0e71e1258803bcf3d...   \n",
       "\n",
       "                                  adress_from  \\\n",
       "2  0xd24400ae8BfEBb18cA49Be86258a3C749cf46853   \n",
       "7  0x00514112B64626360445D45dae83327c989FacE2   \n",
       "3  0x9696f59E4d72E237BE84fFD425DCaD154Bf96976   \n",
       "6  0x9696f59E4d72E237BE84fFD425DCaD154Bf96976   \n",
       "8  0x6277a1073DFBE0Ea087E0eF8741DCE084831E782   \n",
       "4  0x267be1C1D684F78cb4F6a176C4911b741E4Ffdc0   \n",
       "1  0x285D153589c8fe208C9F00cc966D7A1d32A9A655   \n",
       "0  0x6cFdad0772EDC2EA15076A9706ec7c1F0a791aC1   \n",
       "5  0x1e218a3795479F1A9F0156F6E136db6f1613F7d8   \n",
       "9  0x0c8056914D4e49419EdB73516e18E0B8722593Eb   \n",
       "\n",
       "                                    adress_to  \n",
       "2  0x479Bc00624e58398f4Cf59D78884d12Fb515790A  \n",
       "7  0x7286fCB1f0B9652063325f9d9Dc6fef092D6E711  \n",
       "3  0x2Ca212aF7E65631d46A1cF406427f257D2976A71  \n",
       "6  0xb5964c355EdF06840E5917A9c9f3d51D2a233B36  \n",
       "8  0x794958f3Fb8af2e795308fc0948c4F6857D0AfBc  \n",
       "4  0x32d4703e5834F1b474B17DFdB0aC32Cc22575145  \n",
       "1  0x28C6c06298d514Db089934071355E5743bf21d60  \n",
       "0  0x74312363e45DCaBA76c59ec49a7Aa8A65a67EeD3  \n",
       "5  0xC02aaA39b223FE8D0A0e5C4F27eAD9083C756Cc2  \n",
       "9  0xb2dFF401DD22916162C211eba048B2e939344AAd  "
      ]
     },
     "execution_count": 18,
     "metadata": {},
     "output_type": "execute_result"
    }
   ],
   "source": [
    "df = {'value':value, 'transaction_hash':transaction_hash,'adress_from':address_from ,'adress_to':adresses_to}\n",
    "df = pd.DataFrame(df)\n",
    "df=df.sort_values(by=['value'], ascending=False)\n",
    "df.head(10)"
   ]
  },
  {
   "cell_type": "markdown",
   "metadata": {
    "id": "3fMsMJ2qOmvt"
   },
   "source": [
    "**Exercise 3**\n",
    "\n",
    "Go to \"solutions-1-kaggle\""
   ]
  }
 ],
 "metadata": {
  "colab": {
   "provenance": []
  },
  "kernelspec": {
   "display_name": "Python 3 (ipykernel)",
   "language": "python",
   "name": "python3"
  },
  "language_info": {
   "codemirror_mode": {
    "name": "ipython",
    "version": 3
   },
   "file_extension": ".py",
   "mimetype": "text/x-python",
   "name": "python",
   "nbconvert_exporter": "python",
   "pygments_lexer": "ipython3",
   "version": "3.8.13"
  }
 },
 "nbformat": 4,
 "nbformat_minor": 4
}
